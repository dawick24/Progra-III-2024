{
  "nbformat": 4,
  "nbformat_minor": 0,
  "metadata": {
    "colab": {
      "provenance": [],
      "include_colab_link": true
    },
    "kernelspec": {
      "name": "python3",
      "display_name": "Python 3"
    },
    "language_info": {
      "name": "python"
    }
  },
  "cells": [
    {
      "cell_type": "markdown",
      "metadata": {
        "id": "view-in-github",
        "colab_type": "text"
      },
      "source": [
        "<a href=\"https://colab.research.google.com/github/dawick24/Progra-III-2024/blob/main/Fundamentos_de_phyton.ipynb\" target=\"_parent\"><img src=\"https://colab.research.google.com/assets/colab-badge.svg\" alt=\"Open In Colab\"/></a>"
      ]
    },
    {
      "cell_type": "code",
      "execution_count": null,
      "metadata": {
        "id": "vUhoTgJJ4bfs",
        "colab": {
          "base_uri": "https://localhost:8080/"
        },
        "outputId": "0563c5b4-edfe-4639-910d-8674a078495e"
      },
      "outputs": [
        {
          "output_type": "stream",
          "name": "stdout",
          "text": [
            "hola mundo\n",
            "Hola David Portillo , inicial  D\n"
          ]
        }
      ],
      "source": [
        "print(\"hola mundo\")\n",
        "nombre = \"David Portillo\"\n",
        "\n",
        "print(\"Hola\", nombre, \", inicial \", nombre[0])"
      ]
    },
    {
      "cell_type": "code",
      "source": [
        "num1 = 5\n",
        "num2 = 9.5\n",
        "resp = num1 + num2\n",
        "print(\"La suma es: \", resp)\n",
        "\n"
      ],
      "metadata": {
        "colab": {
          "base_uri": "https://localhost:8080/"
        },
        "id": "5LvlUMug9kG9",
        "outputId": "56f19934-1f20-4005-cb62-896ebd49fd46"
      },
      "execution_count": null,
      "outputs": [
        {
          "output_type": "stream",
          "name": "stdout",
          "text": [
            "La suma es:  14.5\n"
          ]
        }
      ]
    },
    {
      "cell_type": "markdown",
      "source": [
        "Sumar dos numerosw introducidos por el usuario"
      ],
      "metadata": {
        "id": "lD6jhiO5_MqB"
      }
    },
    {
      "cell_type": "code",
      "source": [
        "print(\"Num1\")\n",
        "num1 = float (input())\n",
        "\n",
        "print(\"Num2\")\n",
        "num2 = float (input())\n",
        "\n",
        "resp= num1 + num2\n",
        "print(\"La suma es: \", resp)"
      ],
      "metadata": {
        "colab": {
          "base_uri": "https://localhost:8080/"
        },
        "id": "S3tr9f6a_UrM",
        "outputId": "66983188-1694-4e45-a830-8c2a3f412072"
      },
      "execution_count": null,
      "outputs": [
        {
          "output_type": "stream",
          "name": "stdout",
          "text": [
            "Num1\n",
            "1\n",
            "Num2\n",
            "2\n",
            "La suma es:  3.0\n"
          ]
        }
      ]
    },
    {
      "cell_type": "markdown",
      "source": [
        "Mostrar salida oculta"
      ],
      "metadata": {
        "id": "OmQVdpr2CjDV"
      }
    },
    {
      "cell_type": "code",
      "source": [
        "nombre = \"David Portillo\"\n",
        "print(nombre[0:4], nombre[:4], nombre[-1], nombre[5:len(nombre)])\n",
        "\n",
        "estado = True\n",
        "print(estado)\n",
        "\n",
        "print(type(nombre), type(num1), type(num2), type(estado) )"
      ],
      "metadata": {
        "colab": {
          "base_uri": "https://localhost:8080/"
        },
        "id": "3_S3-QyTCmF0",
        "outputId": "87aa2539-489c-4b04-c3f2-547682cdd114"
      },
      "execution_count": null,
      "outputs": [
        {
          "output_type": "stream",
          "name": "stdout",
          "text": [
            "Davi Davi o  Portillo\n",
            "True\n",
            "<class 'str'> <class 'float'> <class 'float'> <class 'bool'>\n"
          ]
        }
      ]
    },
    {
      "cell_type": "markdown",
      "source": [
        "Cree un programa en phyton que lea un numero y determine si es par o impar  "
      ],
      "metadata": {
        "id": "L9dJ4zKEE1Ry"
      }
    },
    {
      "cell_type": "code",
      "source": [
        "num = int(input(\"Ingrese un numero:\"))\n",
        "if num % 2 == 0:\n",
        "  print(\"El numero es par \", num)\n",
        "else:\n",
        "  print(\"El numero es impar\")"
      ],
      "metadata": {
        "colab": {
          "base_uri": "https://localhost:8080/"
        },
        "id": "TN0qsZlPFKcd",
        "outputId": "6c4a6146-7a9d-4887-8cf2-9bd0dc758ed7"
      },
      "execution_count": null,
      "outputs": [
        {
          "output_type": "stream",
          "name": "stdout",
          "text": [
            "Ingrese un numero:2\n",
            "El numero es par  2\n"
          ]
        }
      ]
    },
    {
      "cell_type": "code",
      "source": [
        "nombre = input(\"Nombre: \")\n",
        "print(nombre, nombre[2])"
      ],
      "metadata": {
        "id": "j9dUX6uKZDDX",
        "outputId": "3babc705-ea1e-4070-a16b-a23804a50cfa",
        "colab": {
          "base_uri": "https://localhost:8080/"
        }
      },
      "execution_count": null,
      "outputs": [
        {
          "output_type": "stream",
          "name": "stdout",
          "text": [
            "Nombre: David\n",
            "David v\n"
          ]
        }
      ]
    },
    {
      "cell_type": "code",
      "source": [
        "def suma(num1, num2):\n",
        "  return num1 + num2\n",
        "num1 = float(input(\"Num1: \"))\n",
        "num2 = float(input(\"Num2: \"))\n",
        "resp =suma(num1, num2)\n",
        "print(\"La suma es: \", resp)"
      ],
      "metadata": {
        "id": "fERwJ4A0aCgM"
      },
      "execution_count": null,
      "outputs": []
    },
    {
      "cell_type": "markdown",
      "source": [
        "Convertiri celsius a farenheit, usando fu nciones de usuario"
      ],
      "metadata": {
        "id": "LpedleQwbhyP"
      }
    },
    {
      "cell_type": "code",
      "source": [
        "def convertir_cf(c):\n",
        "  return c*1.8 + 32\n",
        "\n",
        "c = float(input(\"celsius: \"))\n",
        "print(\"F: \", convertir_cf(c))"
      ],
      "metadata": {
        "collapsed": true,
        "id": "E4Usks-ubqcj",
        "outputId": "69eae5e7-482b-4874-eadf-dce6ef49631e",
        "colab": {
          "base_uri": "https://localhost:8080/"
        }
      },
      "execution_count": 46,
      "outputs": [
        {
          "output_type": "stream",
          "name": "stdout",
          "text": [
            "celsius: 50\n",
            "F:  122.0\n"
          ]
        }
      ]
    },
    {
      "cell_type": "markdown",
      "source": [
        "Determinar si un numereo es par o impar"
      ],
      "metadata": {
        "id": "bOAHUrGlfqP9"
      }
    },
    {
      "cell_type": "code",
      "source": [
        "def parImpar(num):\n",
        "  if(num%2==0):\n",
        "    return \"par\"\n",
        "  return \"impar\"\n",
        "\n",
        "num = int(input(\"Num: \"))\n",
        "print(\"El numero \", num, \"es\", parImpar(num))"
      ],
      "metadata": {
        "id": "NaJoeSzafwH9",
        "outputId": "4994ba61-dbcf-4267-8795-c2dfa6f7e27d",
        "colab": {
          "base_uri": "https://localhost:8080/"
        }
      },
      "execution_count": null,
      "outputs": [
        {
          "output_type": "stream",
          "name": "stdout",
          "text": [
            "Num: 9\n",
            "El numero  9 es impar\n"
          ]
        }
      ]
    },
    {
      "cell_type": "markdown",
      "source": [
        "Tarea (MIERCOLES)\n",
        "\n",
        "1. Convertir grados farenheits a celsius\n",
        "2. Convertir grados [Celsius y Fraenheit] a Kelvin."
      ],
      "metadata": {
        "id": "89p7_IuWhG2b"
      }
    },
    {
      "cell_type": "code",
      "source": [
        "def convertir_fc(f):\n",
        "  return (f - 32) * 5/9\n",
        "\n",
        "f = float(input(\"farenheit: \"))\n",
        "print(\"C:\", convertir_fc(f))"
      ],
      "metadata": {
        "id": "E28BrMZ9hkC_",
        "collapsed": true,
        "outputId": "7753e1da-a4f3-46c4-c81c-32e087eca6ee",
        "colab": {
          "base_uri": "https://localhost:8080/"
        }
      },
      "execution_count": 12,
      "outputs": [
        {
          "output_type": "stream",
          "name": "stdout",
          "text": [
            "farenheit: 10\n",
            "C: -12.222222222222221\n"
          ]
        }
      ]
    },
    {
      "cell_type": "markdown",
      "source": [
        "2, CONVERTIR GRADOS [CELSIUS Y FARENHEIT] A KELVIN\n",
        "\n",
        "> Agregar bloque entrecomillado\n",
        "\n"
      ],
      "metadata": {
        "id": "wlhHVTskbgek"
      }
    },
    {
      "cell_type": "code",
      "source": [
        "def covertir_ck(c):\n",
        "  k = c + 273.15\n",
        "  return k\n",
        "\n",
        "def convertir_fk(c):\n",
        "  c = ((f - 32) * 5/9) +273.15\n",
        "  k = c * 1.8 + 32\n",
        "  return k\n",
        "\n",
        "c = float(input(\"Celsius a Kelvin: \"))\n",
        "print(\"K:\", covertir_ck(c))\n",
        "\n",
        "c = float(input(\"Farenheit a Kelvin: \"))\n",
        "print(\"k:\", convertir_fk(c))\n",
        "\n"
      ],
      "metadata": {
        "id": "dGA9KOWGbs1T",
        "outputId": "c1571997-2b7e-4346-c1e4-eda46dcc2856",
        "colab": {
          "base_uri": "https://localhost:8080/",
          "height": 245
        }
      },
      "execution_count": 92,
      "outputs": [
        {
          "name": "stdout",
          "output_type": "stream",
          "text": [
            "Celsius a Kelvin: 70\n",
            "K: 343.15\n",
            "Farenheit a Kelvin: 70\n"
          ]
        },
        {
          "output_type": "error",
          "ename": "NameError",
          "evalue": "name 'k' is not defined",
          "traceback": [
            "\u001b[0;31m---------------------------------------------------------------------------\u001b[0m",
            "\u001b[0;31mNameError\u001b[0m                                 Traceback (most recent call last)",
            "\u001b[0;32m<ipython-input-92-e11821dcb47e>\u001b[0m in \u001b[0;36m<cell line: 14>\u001b[0;34m()\u001b[0m\n\u001b[1;32m     12\u001b[0m \u001b[0;34m\u001b[0m\u001b[0m\n\u001b[1;32m     13\u001b[0m \u001b[0mc\u001b[0m \u001b[0;34m=\u001b[0m \u001b[0mfloat\u001b[0m\u001b[0;34m(\u001b[0m\u001b[0minput\u001b[0m\u001b[0;34m(\u001b[0m\u001b[0;34m\"Farenheit a Kelvin: \"\u001b[0m\u001b[0;34m)\u001b[0m\u001b[0;34m)\u001b[0m\u001b[0;34m\u001b[0m\u001b[0;34m\u001b[0m\u001b[0m\n\u001b[0;32m---> 14\u001b[0;31m \u001b[0mprint\u001b[0m\u001b[0;34m(\u001b[0m\u001b[0;34m\"k:\"\u001b[0m\u001b[0;34m,\u001b[0m \u001b[0mconvertir_fk\u001b[0m\u001b[0;34m(\u001b[0m\u001b[0mk\u001b[0m\u001b[0;34m)\u001b[0m\u001b[0;34m)\u001b[0m\u001b[0;34m\u001b[0m\u001b[0;34m\u001b[0m\u001b[0m\n\u001b[0m\u001b[1;32m     15\u001b[0m \u001b[0;34m\u001b[0m\u001b[0m\n",
            "\u001b[0;31mNameError\u001b[0m: name 'k' is not defined"
          ]
        }
      ]
    },
    {
      "cell_type": "markdown",
      "source": [
        "Calcular el sueldo de un trabajador"
      ],
      "metadata": {
        "id": "vmvEvLQWht9b"
      }
    },
    {
      "cell_type": "code",
      "source": [
        "def sueldo(numHrs, valorxHrs):\n",
        "  sueldo = numHrs * valorxHrs * 30 # 10*1.5*30 = 450\n",
        "  if(numHrs>8):\n",
        "    sueldo= sueldo + (numHrs-8) * valorxHrs * 30 # 2*1.5*30 = 90\n",
        "  return sueldo\n",
        "\n",
        "numHrs = int(input(\"Horas: \"))\n",
        "valorxHrs = float(input(\"Valor: \"))\n",
        "\n",
        "print(\"sueldo: \", sueldo(numHrs, valorxHrs))"
      ],
      "metadata": {
        "collapsed": true,
        "id": "KRQji5N8iMRI",
        "outputId": "97aa5330-8e35-4c70-fffa-9c6ac8d04275",
        "colab": {
          "base_uri": "https://localhost:8080/"
        }
      },
      "execution_count": null,
      "outputs": [
        {
          "output_type": "stream",
          "name": "stdout",
          "text": [
            "Horas: 10\n",
            "Valor: 1.5\n",
            "sueldo:  540.0\n"
          ]
        }
      ]
    },
    {
      "cell_type": "code",
      "source": [
        "# Función para convertir Fahrenheit a Kelvin\n",
        "def fahrenheit_a_kelvin(fahrenheit):\n",
        "    # Convertir Fahrenheit a Celsius\n",
        "    celsius = (fahrenheit - 32) * 5.0 / 9.0\n",
        "    # Convertir Celsius a Kelvin\n",
        "    kelvin = celsius + 273.15\n",
        "    return kelvin\n",
        "\n",
        "# Ejemplo de uso\n",
        "fahrenheit = 98.6\n",
        "kelvin = fahrenheit_a_kelvin(fahrenheit)\n",
        "print(f\"{fahrenheit} grados Fahrenheit son {kelvin:.2f} Kelvin.\")\n"
      ],
      "metadata": {
        "id": "dtKROyy8jos_",
        "outputId": "456e10e6-73a1-47b7-9dc3-d5436ace5b5f",
        "colab": {
          "base_uri": "https://localhost:8080/"
        }
      },
      "execution_count": 62,
      "outputs": [
        {
          "output_type": "stream",
          "name": "stdout",
          "text": [
            "98.6 grados Fahrenheit son 310.15 Kelvin.\n"
          ]
        }
      ]
    }
  ]
}