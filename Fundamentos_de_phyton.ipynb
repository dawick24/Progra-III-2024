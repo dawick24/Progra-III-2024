{
  "nbformat": 4,
  "nbformat_minor": 0,
  "metadata": {
    "colab": {
      "provenance": [],
      "include_colab_link": true
    },
    "kernelspec": {
      "name": "python3",
      "display_name": "Python 3"
    },
    "language_info": {
      "name": "python"
    }
  },
  "cells": [
    {
      "cell_type": "markdown",
      "metadata": {
        "id": "view-in-github",
        "colab_type": "text"
      },
      "source": [
        "<a href=\"https://colab.research.google.com/github/dawick24/Progra-III-2024/blob/main/Fundamentos_de_phyton.ipynb\" target=\"_parent\"><img src=\"https://colab.research.google.com/assets/colab-badge.svg\" alt=\"Open In Colab\"/></a>"
      ]
    },
    {
      "cell_type": "code",
      "execution_count": null,
      "metadata": {
        "id": "vUhoTgJJ4bfs",
        "colab": {
          "base_uri": "https://localhost:8080/"
        },
        "outputId": "0563c5b4-edfe-4639-910d-8674a078495e"
      },
      "outputs": [
        {
          "output_type": "stream",
          "name": "stdout",
          "text": [
            "hola mundo\n",
            "Hola David Portillo , inicial  D\n"
          ]
        }
      ],
      "source": [
        "print(\"hola mundo\")\n",
        "nombre = \"David Portillo\"\n",
        "\n",
        "print(\"Hola\", nombre, \", inicial \", nombre[0])"
      ]
    },
    {
      "cell_type": "code",
      "source": [
        "num1 = 5\n",
        "num2 = 9.5\n",
        "resp = num1 + num2\n",
        "print(\"La suma es: \", resp)\n",
        "\n"
      ],
      "metadata": {
        "colab": {
          "base_uri": "https://localhost:8080/"
        },
        "id": "5LvlUMug9kG9",
        "outputId": "56f19934-1f20-4005-cb62-896ebd49fd46"
      },
      "execution_count": null,
      "outputs": [
        {
          "output_type": "stream",
          "name": "stdout",
          "text": [
            "La suma es:  14.5\n"
          ]
        }
      ]
    },
    {
      "cell_type": "markdown",
      "source": [
        "Sumar dos numerosw introducidos por el usuario"
      ],
      "metadata": {
        "id": "lD6jhiO5_MqB"
      }
    },
    {
      "cell_type": "code",
      "source": [
        "print(\"Num1\")\n",
        "num1 = float (input())\n",
        "\n",
        "print(\"Num2\")\n",
        "num2 = float (input())\n",
        "\n",
        "resp= num1 + num2\n",
        "print(\"La suma es: \", resp)"
      ],
      "metadata": {
        "colab": {
          "base_uri": "https://localhost:8080/"
        },
        "id": "S3tr9f6a_UrM",
        "outputId": "66983188-1694-4e45-a830-8c2a3f412072"
      },
      "execution_count": null,
      "outputs": [
        {
          "output_type": "stream",
          "name": "stdout",
          "text": [
            "Num1\n",
            "1\n",
            "Num2\n",
            "2\n",
            "La suma es:  3.0\n"
          ]
        }
      ]
    },
    {
      "cell_type": "markdown",
      "source": [
        "Mostrar salida oculta"
      ],
      "metadata": {
        "id": "OmQVdpr2CjDV"
      }
    },
    {
      "cell_type": "code",
      "source": [
        "nombre = \"David Portillo\"\n",
        "print(nombre[0:4], nombre[:4], nombre[-1], nombre[5:len(nombre)])\n",
        "\n",
        "estado = True\n",
        "print(estado)\n",
        "\n",
        "print(type(nombre), type(num1), type(num2), type(estado) )"
      ],
      "metadata": {
        "colab": {
          "base_uri": "https://localhost:8080/"
        },
        "id": "3_S3-QyTCmF0",
        "outputId": "87aa2539-489c-4b04-c3f2-547682cdd114"
      },
      "execution_count": null,
      "outputs": [
        {
          "output_type": "stream",
          "name": "stdout",
          "text": [
            "Davi Davi o  Portillo\n",
            "True\n",
            "<class 'str'> <class 'float'> <class 'float'> <class 'bool'>\n"
          ]
        }
      ]
    },
    {
      "cell_type": "markdown",
      "source": [
        "Cree un programa en phyton que lea un numero y determine si es par o impar  "
      ],
      "metadata": {
        "id": "L9dJ4zKEE1Ry"
      }
    },
    {
      "cell_type": "code",
      "source": [
        "num = int(input(\"Ingrese un numero:\"))\n",
        "if num % 2 == 0:\n",
        "  print(\"El numero es par \", num)\n",
        "else:\n",
        "  print(\"El numero es impar\")"
      ],
      "metadata": {
        "colab": {
          "base_uri": "https://localhost:8080/"
        },
        "id": "TN0qsZlPFKcd",
        "outputId": "6c4a6146-7a9d-4887-8cf2-9bd0dc758ed7"
      },
      "execution_count": null,
      "outputs": [
        {
          "output_type": "stream",
          "name": "stdout",
          "text": [
            "Ingrese un numero:2\n",
            "El numero es par  2\n"
          ]
        }
      ]
    },
    {
      "cell_type": "code",
      "source": [
        "nombre = input(\"Nombre: \")\n",
        "print(nombre, nombre[2])"
      ],
      "metadata": {
        "id": "j9dUX6uKZDDX",
        "outputId": "3babc705-ea1e-4070-a16b-a23804a50cfa",
        "colab": {
          "base_uri": "https://localhost:8080/"
        }
      },
      "execution_count": null,
      "outputs": [
        {
          "output_type": "stream",
          "name": "stdout",
          "text": [
            "Nombre: David\n",
            "David v\n"
          ]
        }
      ]
    },
    {
      "cell_type": "code",
      "source": [
        "def suma(num1, num2):\n",
        "  return num1 + num2\n",
        "num1 = float(input(\"Num1: \"))\n",
        "num2 = float(input(\"Num2: \"))\n",
        "resp =suma(num1, num2)\n",
        "print(\"La suma es: \", resp)"
      ],
      "metadata": {
        "id": "fERwJ4A0aCgM"
      },
      "execution_count": null,
      "outputs": []
    },
    {
      "cell_type": "markdown",
      "source": [
        "Convertiri celsius a farenheit, usando fu nciones de usuario"
      ],
      "metadata": {
        "id": "LpedleQwbhyP"
      }
    },
    {
      "cell_type": "code",
      "source": [
        "def convertir_cf(c):\n",
        "  return c*1.8 + 32\n",
        "\n",
        "c = float(input(\"celsius: \"))\n",
        "print(\"F: \", convertir_cf(c))"
      ],
      "metadata": {
        "collapsed": true,
        "id": "E4Usks-ubqcj",
        "outputId": "69eae5e7-482b-4874-eadf-dce6ef49631e",
        "colab": {
          "base_uri": "https://localhost:8080/"
        }
      },
      "execution_count": null,
      "outputs": [
        {
          "output_type": "stream",
          "name": "stdout",
          "text": [
            "celsius: 50\n",
            "F:  122.0\n"
          ]
        }
      ]
    },
    {
      "cell_type": "markdown",
      "source": [
        "Determinar si un numereo es par o impar"
      ],
      "metadata": {
        "id": "bOAHUrGlfqP9"
      }
    },
    {
      "cell_type": "code",
      "source": [
        "def parImpar(num):\n",
        "  if(num%2==0):\n",
        "    return \"par\"\n",
        "  return \"impar\"\n",
        "\n",
        "num = int(input(\"Num: \"))\n",
        "print(\"El numero \", num, \"es\", parImpar(num))"
      ],
      "metadata": {
        "id": "NaJoeSzafwH9",
        "outputId": "4994ba61-dbcf-4267-8795-c2dfa6f7e27d",
        "colab": {
          "base_uri": "https://localhost:8080/"
        }
      },
      "execution_count": null,
      "outputs": [
        {
          "output_type": "stream",
          "name": "stdout",
          "text": [
            "Num: 9\n",
            "El numero  9 es impar\n"
          ]
        }
      ]
    },
    {
      "cell_type": "markdown",
      "source": [
        "Tarea (MIERCOLES)\n",
        "\n",
        "1. Convertir grados farenheits a celsius\n",
        "2. Convertir grados [Celsius y Fraenheit] a Kelvin."
      ],
      "metadata": {
        "id": "89p7_IuWhG2b"
      }
    },
    {
      "cell_type": "code",
      "source": [
        "def convertir_fc(f):\n",
        "  return (f - 32) * 5/9\n",
        "\n",
        "f = float(input(\"farenheit: \"))\n",
        "print(\"C:\", convertir_fc(f))"
      ],
      "metadata": {
        "id": "E28BrMZ9hkC_",
        "collapsed": true,
        "outputId": "a68108f1-dfec-4683-d315-568e6642d505",
        "colab": {
          "base_uri": "https://localhost:8080/"
        }
      },
      "execution_count": 39,
      "outputs": [
        {
          "output_type": "stream",
          "name": "stdout",
          "text": [
            "farenheit: 10\n",
            "C: -12.222222222222221\n"
          ]
        }
      ]
    },
    {
      "cell_type": "markdown",
      "source": [
        "2, CONVERTIR GRADOS [CELSIUS Y FARENHEIT] A KELVIN\n",
        "\n",
        "---\n",
        "\n",
        "\n",
        "\n",
        "> Agregar bloque entrecomillado\n",
        "\n"
      ],
      "metadata": {
        "id": "wlhHVTskbgek"
      }
    },
    {
      "cell_type": "code",
      "source": [
        "def convertir_ck(c):\n",
        "  k = c + 273.15\n",
        "  return k\n",
        "\n",
        "c =float(input(\"Celsius: \"))\n",
        "print(\"Kelvin: \", convertir_ck(c))"
      ],
      "metadata": {
        "id": "dGA9KOWGbs1T",
        "outputId": "dba28ed9-b04e-4bdc-f2f6-df9d4bf8112c",
        "colab": {
          "base_uri": "https://localhost:8080/"
        }
      },
      "execution_count": 2,
      "outputs": [
        {
          "output_type": "stream",
          "name": "stdout",
          "text": [
            "Celsius: 20\n",
            "K:  293.15\n"
          ]
        }
      ]
    },
    {
      "cell_type": "markdown",
      "source": [
        "Farenheit a Kelvin"
      ],
      "metadata": {
        "id": "udQ_Ql_o4fh8"
      }
    },
    {
      "cell_type": "code",
      "source": [
        "def convertir_fk(f):\n",
        "  k = (f - 32) * 5/9 + 273.15\n",
        "  return k\n",
        "\n",
        "f = float(input(\"Farenheit: \"))\n",
        "print(\"Kelvin: \", convertir_fk(f))"
      ],
      "metadata": {
        "id": "7pFc3ZAz4lcr",
        "outputId": "7b167f53-1d86-4f2a-da30-5203be07ac94",
        "colab": {
          "base_uri": "https://localhost:8080/"
        }
      },
      "execution_count": 40,
      "outputs": [
        {
          "output_type": "stream",
          "name": "stdout",
          "text": [
            "Farenheit: 70\n",
            "Kelvin:  294.26111111111106\n"
          ]
        }
      ]
    },
    {
      "cell_type": "markdown",
      "source": [
        "Calcular el sueldo de un trabajador"
      ],
      "metadata": {
        "id": "vmvEvLQWht9b"
      }
    },
    {
      "cell_type": "code",
      "source": [
        "def sueldo(numHrs, valorxHrs):\n",
        "  sueldo = numHrs * valorxHrs * 30 # 10*1.5*30 = 450\n",
        "  if(numHrs>8):\n",
        "    sueldo= sueldo + (numHrs-8) * valorxHrs * 30 # 2*1.5*30 = 90\n",
        "  return sueldo\n",
        "\n",
        "numHrs = int(input(\"Horas: \"))\n",
        "valorxHrs = float(input(\"Valor: \"))\n",
        "\n",
        "print(\"sueldo: \", sueldo(numHrs, valorxHrs))"
      ],
      "metadata": {
        "collapsed": true,
        "id": "KRQji5N8iMRI",
        "outputId": "97aa5330-8e35-4c70-fffa-9c6ac8d04275",
        "colab": {
          "base_uri": "https://localhost:8080/"
        }
      },
      "execution_count": null,
      "outputs": [
        {
          "output_type": "stream",
          "name": "stdout",
          "text": [
            "Horas: 10\n",
            "Valor: 1.5\n",
            "sueldo:  540.0\n"
          ]
        }
      ]
    },
    {
      "cell_type": "markdown",
      "source": [
        "Elevar un numero al cuadrado"
      ],
      "metadata": {
        "id": "hRn2wXvs6FsA"
      }
    },
    {
      "cell_type": "code",
      "source": [
        "def elevarCuadrado(base=0,exponente=2):\n",
        " return base**exponente"
      ],
      "metadata": {
        "id": "dtKROyy8jos_",
        "collapsed": true
      },
      "execution_count": 33,
      "outputs": []
    },
    {
      "cell_type": "code",
      "source": [
        "num = int(input(\"Num: \"))\n",
        "print(\"cuadrado: \", elevarCuadrado(num, 3))"
      ],
      "metadata": {
        "id": "hi4I-EMP6-fb",
        "outputId": "764e9314-1ba3-4424-9b26-d3ca0cd494f3",
        "colab": {
          "base_uri": "https://localhost:8080/"
        }
      },
      "execution_count": 34,
      "outputs": [
        {
          "output_type": "stream",
          "name": "stdout",
          "text": [
            "Num: 3\n",
            "cuadrado:  27\n"
          ]
        }
      ]
    },
    {
      "cell_type": "markdown",
      "source": [
        "USANDO FUNCIONES LAMBDA"
      ],
      "metadata": {
        "id": "7V3bxscc8tQi"
      }
    },
    {
      "cell_type": "code",
      "source": [
        "elevarCuadradoLambda = lambda base, exponente: base**exponente"
      ],
      "metadata": {
        "id": "eMjMsY4M81GC"
      },
      "execution_count": 35,
      "outputs": []
    },
    {
      "cell_type": "code",
      "source": [
        "valor = int(input(\"Num: \"))\n",
        "print(\"cuadrado: \", elevarCuadradoLambda(valor, 2))"
      ],
      "metadata": {
        "id": "-SEbNEcF9H4S",
        "outputId": "0eeebc25-f933-40bb-c603-60e0464492b7",
        "colab": {
          "base_uri": "https://localhost:8080/"
        }
      },
      "execution_count": 28,
      "outputs": [
        {
          "output_type": "stream",
          "name": "stdout",
          "text": [
            "Num: 3\n",
            "cuadrado:  9\n"
          ]
        }
      ]
    },
    {
      "cell_type": "code",
      "source": [
        "serie = [5,4,3,2,6,7]\n",
        "resp =map(lambda x: x**2, serie)\n",
        "print(list(resp))\n",
        "\n",
        "resp2 = map(elevarCuadrado, serie)\n",
        "print(list(resp2))"
      ],
      "metadata": {
        "id": "muNBpVCu_-uk",
        "outputId": "46919ff2-3d02-4b7a-f7f3-7ac82998cfb2",
        "colab": {
          "base_uri": "https://localhost:8080/"
        }
      },
      "execution_count": 36,
      "outputs": [
        {
          "output_type": "stream",
          "name": "stdout",
          "text": [
            "[25, 16, 9, 4, 36, 49]\n",
            "[25, 16, 9, 4, 36, 49]\n"
          ]
        }
      ]
    },
    {
      "cell_type": "markdown",
      "source": [
        "Obtener la raiz cuadrada de una serie de numeros frios"
      ],
      "metadata": {
        "id": "sot1C64YC7yv"
      }
    },
    {
      "cell_type": "code",
      "source": [
        "def raizcuadrada(serie):\n",
        "  return num**0.5"
      ],
      "metadata": {
        "id": "P4gyWT7eIgRZ"
      },
      "execution_count": 37,
      "outputs": []
    },
    {
      "cell_type": "code",
      "source": [
        "serie = [2,4,6,8,10]\n",
        "resp = map(raizcuadrada, serie)\n",
        "print(list(resp))"
      ],
      "metadata": {
        "id": "9keRnUb_JEJg",
        "outputId": "77dd4c05-ff68-457c-d949-891d83d07f5b",
        "colab": {
          "base_uri": "https://localhost:8080/"
        }
      },
      "execution_count": 38,
      "outputs": [
        {
          "output_type": "stream",
          "name": "stdout",
          "text": [
            "[1.7320508075688772, 1.7320508075688772, 1.7320508075688772, 1.7320508075688772, 1.7320508075688772]\n"
          ]
        }
      ]
    }
  ]
}