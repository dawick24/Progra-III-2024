{
  "nbformat": 4,
  "nbformat_minor": 0,
  "metadata": {
    "colab": {
      "provenance": [],
      "include_colab_link": true
    },
    "kernelspec": {
      "name": "python3",
      "display_name": "Python 3"
    },
    "language_info": {
      "name": "python"
    }
  },
  "cells": [
    {
      "cell_type": "markdown",
      "metadata": {
        "id": "view-in-github",
        "colab_type": "text"
      },
      "source": [
        "<a href=\"https://colab.research.google.com/github/dawick24/Progra-III-2024/blob/main/Fundamentos_de_phyton.ipynb\" target=\"_parent\"><img src=\"https://colab.research.google.com/assets/colab-badge.svg\" alt=\"Open In Colab\"/></a>"
      ]
    },
    {
      "cell_type": "code",
      "execution_count": null,
      "metadata": {
        "id": "vUhoTgJJ4bfs",
        "colab": {
          "base_uri": "https://localhost:8080/"
        },
        "outputId": "0563c5b4-edfe-4639-910d-8674a078495e"
      },
      "outputs": [
        {
          "output_type": "stream",
          "name": "stdout",
          "text": [
            "hola mundo\n",
            "Hola David Portillo , inicial  D\n"
          ]
        }
      ],
      "source": [
        "print(\"hola mundo\")\n",
        "nombre = \"David Portillo\"\n",
        "\n",
        "print(\"Hola\", nombre, \", inicial \", nombre[0])"
      ]
    },
    {
      "cell_type": "code",
      "source": [
        "num1 = 5\n",
        "num2 = 9.5\n",
        "resp = num1 + num2\n",
        "print(\"La suma es: \", resp)\n",
        "\n"
      ],
      "metadata": {
        "colab": {
          "base_uri": "https://localhost:8080/"
        },
        "id": "5LvlUMug9kG9",
        "outputId": "56f19934-1f20-4005-cb62-896ebd49fd46"
      },
      "execution_count": null,
      "outputs": [
        {
          "output_type": "stream",
          "name": "stdout",
          "text": [
            "La suma es:  14.5\n"
          ]
        }
      ]
    },
    {
      "cell_type": "markdown",
      "source": [
        "Sumar dos numerosw introducidos por el usuario"
      ],
      "metadata": {
        "id": "lD6jhiO5_MqB"
      }
    },
    {
      "cell_type": "code",
      "source": [
        "print(\"Num1\")\n",
        "num1 = float (input())\n",
        "\n",
        "print(\"Num2\")\n",
        "num2 = float (input())\n",
        "\n",
        "resp= num1 + num2\n",
        "print(\"La suma es: \", resp)"
      ],
      "metadata": {
        "colab": {
          "base_uri": "https://localhost:8080/"
        },
        "id": "S3tr9f6a_UrM",
        "outputId": "66983188-1694-4e45-a830-8c2a3f412072"
      },
      "execution_count": null,
      "outputs": [
        {
          "output_type": "stream",
          "name": "stdout",
          "text": [
            "Num1\n",
            "1\n",
            "Num2\n",
            "2\n",
            "La suma es:  3.0\n"
          ]
        }
      ]
    },
    {
      "cell_type": "markdown",
      "source": [
        "Mostrar salida oculta"
      ],
      "metadata": {
        "id": "OmQVdpr2CjDV"
      }
    },
    {
      "cell_type": "code",
      "source": [
        "nombre = \"David Portillo\"\n",
        "print(nombre[0:4], nombre[:4], nombre[-1], nombre[5:len(nombre)])\n",
        "\n",
        "estado = True\n",
        "print(estado)\n",
        "\n",
        "print(type(nombre), type(num1), type(num2), type(estado) )"
      ],
      "metadata": {
        "colab": {
          "base_uri": "https://localhost:8080/"
        },
        "id": "3_S3-QyTCmF0",
        "outputId": "87aa2539-489c-4b04-c3f2-547682cdd114"
      },
      "execution_count": null,
      "outputs": [
        {
          "output_type": "stream",
          "name": "stdout",
          "text": [
            "Davi Davi o  Portillo\n",
            "True\n",
            "<class 'str'> <class 'float'> <class 'float'> <class 'bool'>\n"
          ]
        }
      ]
    },
    {
      "cell_type": "markdown",
      "source": [
        "Cree un programa en phyton que lea un numero y determine si es par o impar  "
      ],
      "metadata": {
        "id": "L9dJ4zKEE1Ry"
      }
    },
    {
      "cell_type": "code",
      "source": [
        "num = int(input(\"Ingrese un numero:\"))\n",
        "if num % 2 == 0:\n",
        "  print(\"El numero es par \", num)\n",
        "else:\n",
        "  print(\"El numero es impar\")"
      ],
      "metadata": {
        "colab": {
          "base_uri": "https://localhost:8080/"
        },
        "id": "TN0qsZlPFKcd",
        "outputId": "6c4a6146-7a9d-4887-8cf2-9bd0dc758ed7"
      },
      "execution_count": null,
      "outputs": [
        {
          "output_type": "stream",
          "name": "stdout",
          "text": [
            "Ingrese un numero:2\n",
            "El numero es par  2\n"
          ]
        }
      ]
    },
    {
      "cell_type": "code",
      "source": [
        "nombre = input(\"Nombre: \")\n",
        "print(nombre, nombre[2])"
      ],
      "metadata": {
        "id": "j9dUX6uKZDDX",
        "outputId": "3babc705-ea1e-4070-a16b-a23804a50cfa",
        "colab": {
          "base_uri": "https://localhost:8080/"
        }
      },
      "execution_count": null,
      "outputs": [
        {
          "output_type": "stream",
          "name": "stdout",
          "text": [
            "Nombre: David\n",
            "David v\n"
          ]
        }
      ]
    },
    {
      "cell_type": "code",
      "source": [
        "def suma(num1, num2):\n",
        "  return num1 + num2\n",
        "num1 = float(input(\"Num1: \"))\n",
        "num2 = float(input(\"Num2: \"))\n",
        "resp =suma(num1, num2)\n",
        "print(\"La suma es: \", resp)"
      ],
      "metadata": {
        "id": "fERwJ4A0aCgM"
      },
      "execution_count": null,
      "outputs": []
    },
    {
      "cell_type": "markdown",
      "source": [
        "Convertiri celsius a farenheit, usando fu nciones de usuario"
      ],
      "metadata": {
        "id": "LpedleQwbhyP"
      }
    },
    {
      "cell_type": "code",
      "source": [
        "def convertir_cf(c):\n",
        "  return c*1.8 + 32\n",
        "\n",
        "c = float(input(\"celsius: \"))\n",
        "print(\"F: \", convertir_cf(c))"
      ],
      "metadata": {
        "collapsed": true,
        "id": "E4Usks-ubqcj",
        "outputId": "69eae5e7-482b-4874-eadf-dce6ef49631e",
        "colab": {
          "base_uri": "https://localhost:8080/"
        }
      },
      "execution_count": null,
      "outputs": [
        {
          "output_type": "stream",
          "name": "stdout",
          "text": [
            "celsius: 50\n",
            "F:  122.0\n"
          ]
        }
      ]
    },
    {
      "cell_type": "markdown",
      "source": [
        "Determinar si un numereo es par o impar"
      ],
      "metadata": {
        "id": "bOAHUrGlfqP9"
      }
    },
    {
      "cell_type": "code",
      "source": [
        "def parImpar(num):\n",
        "  if(num%2==0):\n",
        "    return \"par\"\n",
        "  return \"impar\"\n",
        "\n",
        "num = int(input(\"Num: \"))\n",
        "print(\"El numero \", num, \"es\", parImpar(num))"
      ],
      "metadata": {
        "id": "NaJoeSzafwH9",
        "outputId": "4994ba61-dbcf-4267-8795-c2dfa6f7e27d",
        "colab": {
          "base_uri": "https://localhost:8080/"
        }
      },
      "execution_count": null,
      "outputs": [
        {
          "output_type": "stream",
          "name": "stdout",
          "text": [
            "Num: 9\n",
            "El numero  9 es impar\n"
          ]
        }
      ]
    },
    {
      "cell_type": "markdown",
      "source": [
        "Tarea (MIERCOLES)\n",
        "\n",
        "1. Convertir grados farenheits a celsius\n",
        "2. Convertir grados [Celsius y Fraenheit] a Kelvin."
      ],
      "metadata": {
        "id": "89p7_IuWhG2b"
      }
    },
    {
      "cell_type": "code",
      "source": [
        "def convertir_fc(f):\n",
        "  return (f - 32) * 5/9\n",
        "\n",
        "f = float(input(\"farenheit: \"))\n",
        "print(\"C:\", convertir_fc(f))"
      ],
      "metadata": {
        "id": "E28BrMZ9hkC_",
        "collapsed": true,
        "outputId": "a68108f1-dfec-4683-d315-568e6642d505",
        "colab": {
          "base_uri": "https://localhost:8080/"
        }
      },
      "execution_count": null,
      "outputs": [
        {
          "output_type": "stream",
          "name": "stdout",
          "text": [
            "farenheit: 10\n",
            "C: -12.222222222222221\n"
          ]
        }
      ]
    },
    {
      "cell_type": "markdown",
      "source": [
        "2, CONVERTIR GRADOS [CELSIUS Y FARENHEIT] A KELVIN\n",
        "\n",
        "---\n",
        "\n",
        "\n",
        "\n",
        "> Agregar bloque entrecomillado\n",
        "\n"
      ],
      "metadata": {
        "id": "wlhHVTskbgek"
      }
    },
    {
      "cell_type": "code",
      "source": [
        "def convertir_ck(c):\n",
        "  k = c + 273.15\n",
        "  return k\n",
        "\n",
        "c =float(input(\"Celsius: \"))\n",
        "print(\"Kelvin: \", convertir_ck(c))"
      ],
      "metadata": {
        "id": "dGA9KOWGbs1T",
        "outputId": "dba28ed9-b04e-4bdc-f2f6-df9d4bf8112c",
        "colab": {
          "base_uri": "https://localhost:8080/"
        }
      },
      "execution_count": null,
      "outputs": [
        {
          "output_type": "stream",
          "name": "stdout",
          "text": [
            "Celsius: 20\n",
            "K:  293.15\n"
          ]
        }
      ]
    },
    {
      "cell_type": "markdown",
      "source": [
        "Farenheit a Kelvin"
      ],
      "metadata": {
        "id": "udQ_Ql_o4fh8"
      }
    },
    {
      "cell_type": "code",
      "source": [
        "def convertir_fk(f):\n",
        "  k = (f - 32) * 5/9 + 273.15\n",
        "  return k\n",
        "\n",
        "f = float(input(\"Farenheit: \"))\n",
        "print(\"Kelvin: \", convertir_fk(f))"
      ],
      "metadata": {
        "id": "7pFc3ZAz4lcr",
        "outputId": "7b167f53-1d86-4f2a-da30-5203be07ac94",
        "colab": {
          "base_uri": "https://localhost:8080/"
        }
      },
      "execution_count": null,
      "outputs": [
        {
          "output_type": "stream",
          "name": "stdout",
          "text": [
            "Farenheit: 70\n",
            "Kelvin:  294.26111111111106\n"
          ]
        }
      ]
    },
    {
      "cell_type": "markdown",
      "source": [
        "Calcular el sueldo de un trabajador"
      ],
      "metadata": {
        "id": "vmvEvLQWht9b"
      }
    },
    {
      "cell_type": "code",
      "source": [
        "def sueldo(numHrs, valorxHrs):\n",
        "  sueldo = numHrs * valorxHrs * 30 # 10*1.5*30 = 450\n",
        "  if(numHrs>8):\n",
        "    sueldo= sueldo + (numHrs-8) * valorxHrs * 30 # 2*1.5*30 = 90\n",
        "  return sueldo\n",
        "\n",
        "numHrs = int(input(\"Horas: \"))\n",
        "valorxHrs = float(input(\"Valor: \"))\n",
        "\n",
        "print(\"sueldo: \", sueldo(numHrs, valorxHrs))"
      ],
      "metadata": {
        "collapsed": true,
        "id": "KRQji5N8iMRI",
        "outputId": "97aa5330-8e35-4c70-fffa-9c6ac8d04275",
        "colab": {
          "base_uri": "https://localhost:8080/"
        }
      },
      "execution_count": null,
      "outputs": [
        {
          "output_type": "stream",
          "name": "stdout",
          "text": [
            "Horas: 10\n",
            "Valor: 1.5\n",
            "sueldo:  540.0\n"
          ]
        }
      ]
    },
    {
      "cell_type": "markdown",
      "source": [
        "Elevar un numero al cuadrado"
      ],
      "metadata": {
        "id": "hRn2wXvs6FsA"
      }
    },
    {
      "cell_type": "code",
      "source": [
        "def elevarCuadrado(base=0,exponente=2):\n",
        " return base**exponente"
      ],
      "metadata": {
        "id": "dtKROyy8jos_",
        "collapsed": true
      },
      "execution_count": null,
      "outputs": []
    },
    {
      "cell_type": "code",
      "source": [
        "num = int(input(\"Num: \"))\n",
        "print(\"cuadrado: \", elevarCuadrado(num, 3))"
      ],
      "metadata": {
        "id": "hi4I-EMP6-fb",
        "outputId": "764e9314-1ba3-4424-9b26-d3ca0cd494f3",
        "colab": {
          "base_uri": "https://localhost:8080/"
        }
      },
      "execution_count": null,
      "outputs": [
        {
          "output_type": "stream",
          "name": "stdout",
          "text": [
            "Num: 3\n",
            "cuadrado:  27\n"
          ]
        }
      ]
    },
    {
      "cell_type": "markdown",
      "source": [
        "USANDO FUNCIONES LAMBDA"
      ],
      "metadata": {
        "id": "7V3bxscc8tQi"
      }
    },
    {
      "cell_type": "code",
      "source": [
        "elevarCuadradoLambda = lambda base, exponente: base**exponente"
      ],
      "metadata": {
        "id": "eMjMsY4M81GC"
      },
      "execution_count": null,
      "outputs": []
    },
    {
      "cell_type": "code",
      "source": [
        "valor = int(input(\"Num: \"))\n",
        "print(\"cuadrado: \", elevarCuadradoLambda(valor, 2))"
      ],
      "metadata": {
        "id": "-SEbNEcF9H4S",
        "outputId": "0eeebc25-f933-40bb-c603-60e0464492b7",
        "colab": {
          "base_uri": "https://localhost:8080/"
        }
      },
      "execution_count": null,
      "outputs": [
        {
          "output_type": "stream",
          "name": "stdout",
          "text": [
            "Num: 3\n",
            "cuadrado:  9\n"
          ]
        }
      ]
    },
    {
      "cell_type": "code",
      "source": [
        "serie = [5,4,3,2,6,7]\n",
        "resp =map(lambda x: x**2, serie)\n",
        "print(list(resp))\n",
        "\n",
        "resp2 = map(elevarCuadrado, serie)\n",
        "print(list(resp2))"
      ],
      "metadata": {
        "id": "muNBpVCu_-uk",
        "outputId": "46919ff2-3d02-4b7a-f7f3-7ac82998cfb2",
        "colab": {
          "base_uri": "https://localhost:8080/"
        }
      },
      "execution_count": null,
      "outputs": [
        {
          "output_type": "stream",
          "name": "stdout",
          "text": [
            "[25, 16, 9, 4, 36, 49]\n",
            "[25, 16, 9, 4, 36, 49]\n"
          ]
        }
      ]
    },
    {
      "cell_type": "markdown",
      "source": [
        "Obtener la raiz cuadrada de una serie de numeros frios"
      ],
      "metadata": {
        "id": "sot1C64YC7yv"
      }
    },
    {
      "cell_type": "code",
      "source": [
        "def raizcuadrada(serie):\n",
        "  return num**0.5"
      ],
      "metadata": {
        "id": "P4gyWT7eIgRZ"
      },
      "execution_count": null,
      "outputs": []
    },
    {
      "cell_type": "code",
      "source": [
        "serie = [2,4,6,8,10]\n",
        "resp = map(raizcuadrada, serie)\n",
        "print(list(resp))"
      ],
      "metadata": {
        "id": "9keRnUb_JEJg",
        "outputId": "77dd4c05-ff68-457c-d949-891d83d07f5b",
        "colab": {
          "base_uri": "https://localhost:8080/"
        }
      },
      "execution_count": null,
      "outputs": [
        {
          "output_type": "stream",
          "name": "stdout",
          "text": [
            "[1.7320508075688772, 1.7320508075688772, 1.7320508075688772, 1.7320508075688772, 1.7320508075688772]\n"
          ]
        }
      ]
    },
    {
      "cell_type": "markdown",
      "source": [
        "***TAREA***  EJERCICIOS PRACTICOS EN PHYTON – Grupos 4\n",
        "\n",
        "---\n",
        "\n"
      ],
      "metadata": {
        "id": "mTeOruPUGb0v"
      }
    },
    {
      "cell_type": "markdown",
      "source": [
        "# 3- Desarrolle la tabla de meses acumulados a n meses:"
      ],
      "metadata": {
        "id": "6JNv9QnOAJEK"
      }
    },
    {
      "cell_type": "code",
      "source": [
        "def calcular_acumulacionde(meses):\n",
        "   acumulacion = 0\n",
        "   for i in range(1, meses + 1):\n",
        "       acumulacion += i\n",
        "   return acumulacion\n",
        "\n",
        "meses = int(input(\"Ingrese el numero de meses: \"))\n",
        "resultado = calcular_acumulacionde(meses)\n",
        "print(f\"Acumulacion de {meses} meses: {resultado}\")\n"
      ],
      "metadata": {
        "id": "GO3PyfqNAMO9",
        "outputId": "fbc5631d-7299-4e19-e3e2-7c9cb6e22577",
        "colab": {
          "base_uri": "https://localhost:8080/"
        }
      },
      "execution_count": null,
      "outputs": [
        {
          "output_type": "stream",
          "name": "stdout",
          "text": [
            "Ingrese el numero de meses: 24\n",
            "Acumulacion de 24 meses: 300\n"
          ]
        }
      ]
    },
    {
      "cell_type": "markdown",
      "source": [
        "# 1- **Calcular** sobre el sueldo las deducciones por ley ISSS (3%), AFP(6.25%), ISR(Según tabla) e imprima el total deducciones y sueldo neto."
      ],
      "metadata": {
        "id": "x3OCxIDcCV3l"
      }
    },
    {
      "cell_type": "code",
      "source": [
        "sueldo_salarial = float(input(\"Ingrese el sueldo: \"))\n",
        "ISSS = sueldo_salarial * 0.03\n",
        "AFP = sueldo_salarial * 0.0625\n",
        "ISR = sueldo_salarial * 0.20 # SERA EL % DEL ISR QUE QUEREMOS\n",
        "# TOTAL DE LAS 3 DEDUCCIONES\n",
        "total_deduccion = ISSS + AFP + ISR\n",
        "# SUELDO NETO - EL TOTAL DE DEDUCCION\n",
        "sueldo_neto = sueldo_salarial - total_deduccion\n",
        "\n",
        "print(f\"ISSS: ${ISSS:.2f}\")\n",
        "print(f\"AFP: ${AFP:.2f}\")\n",
        "print(f\"ISR: ${ISR:.2f}\")\n",
        "print(f\"Total de deducciones: ${total_deduccion:.2f}\")\n",
        "print(f\"Sueldo: ${sueldo_neto:.2f}\")\n"
      ],
      "metadata": {
        "id": "Yd6CP0wFCsJj",
        "outputId": "523b099a-8ea0-4b31-e19d-3824191d0ee7",
        "colab": {
          "base_uri": "https://localhost:8080/"
        }
      },
      "execution_count": null,
      "outputs": [
        {
          "output_type": "stream",
          "name": "stdout",
          "text": [
            "Ingrese el sueldo: 375\n",
            "ISSS: $11.25\n",
            "AFP: $23.44\n",
            "ISR: $75.00\n",
            "Total de deducciones: $109.69\n",
            "Sueldo: $265.31\n"
          ]
        }
      ]
    },
    {
      "cell_type": "markdown",
      "source": [
        "# **2- Calcular el valor a pagar según el número de metros consumidos de agua potable.**"
      ],
      "metadata": {
        "id": "c-VKYX6aGOHS"
      }
    },
    {
      "cell_type": "code",
      "source": [
        "def calcular_valor_apagar(metros_consumidos):\n",
        "    if metros_consumidos <= 18:\n",
        "      \"La cuota fija para consumo de 1 a 18 metros es\"\n",
        "      total_a_pagar = 6.00\n",
        "    elif metros_consumidos <= 28:\n",
        "      \"Calcular el exceeso de consumo entre 19 y 28 metros es\"\n",
        "      exceso = metros_consumidos - 18\n",
        "      total_a_pagar = 6.00 + (exceso * 0.45)\n",
        "    else:\n",
        "       \"Calcular el exceso de consumo de 29 metros en adelante es\"\n",
        "       exceso =metros_consumidos - 28\n",
        "       exceso = metros_consumidos - 28\n",
        "       total_a_pagar = 6.00 + (10 * 0.45) + (exceso * 0.65)\n",
        "\n",
        "    return total_a_pagar\n",
        "metros_consumidos = float(input(\"Introduce los metros de agua consumidos: \"))\n",
        "total_a_pagar = calcular_valor_apagar(metros_consumidos)\n",
        "\n",
        "print(f\"El total a pagar por {metros_consumidos} metros es: ${total_a_pagar:.2f}\")"
      ],
      "metadata": {
        "id": "ewh2OmBl90PU",
        "outputId": "dff64b8e-54d7-4efd-83a3-12be2c4cbfbe",
        "colab": {
          "base_uri": "https://localhost:8080/"
        }
      },
      "execution_count": null,
      "outputs": [
        {
          "output_type": "stream",
          "name": "stdout",
          "text": [
            "Introduce los metros de agua consumidos: 12\n",
            "El total a pagar por 12.0 metros es: $6.00\n"
          ]
        }
      ]
    },
    {
      "cell_type": "markdown",
      "source": [
        "# **`3- Desarrolle la tabla de meses acumulados a n meses:`**"
      ],
      "metadata": {
        "id": "vcfpmvBhCYlO"
      }
    },
    {
      "cell_type": "code",
      "source": [
        "def suma_acumulada(n):\n",
        "    acumulacion = n * (n + 1) // 2\n",
        "    return acumulacion\n",
        "\n",
        "meses = int(input(\"\"\"Introduce el número de meses:\n",
        "\"\"\"))\n",
        "acumulacion_total = suma_acumulada(meses)\n",
        "\n",
        "print(f\"La acumulación total para {meses} meses es: {acumulacion_total}\")"
      ],
      "metadata": {
        "id": "29vzbUKHCXh_",
        "outputId": "e98556c1-5926-42a9-f8e2-ee74e0be9fe5",
        "colab": {
          "base_uri": "https://localhost:8080/"
        }
      },
      "execution_count": null,
      "outputs": [
        {
          "output_type": "stream",
          "name": "stdout",
          "text": [
            "Introduce el número de meses:\n",
            "7\n",
            "La acumulación total para 7 meses es: 28\n"
          ]
        }
      ]
    },
    {
      "cell_type": "markdown",
      "source": [
        "# **4- Conversores: **"
      ],
      "metadata": {
        "id": "aH9hGPsECxwH"
      }
    },
    {
      "cell_type": "markdown",
      "source": [
        "# **MONEDAS**"
      ],
      "metadata": {
        "id": "I9w46gSmNUh0"
      }
    },
    {
      "cell_type": "code",
      "source": [
        "conversiones = {\n",
        "    1: (\"Colón Costarricense (CRC)\", 0.0017),\n",
        "    2: (\"Quetzal Guatemalteco (GTQ)\", 0.130),\n",
        "    3: (\"Lempira Hondureño (HNL)\", 0.041),\n",
        "    4: (\"Córdoba Nicaragüense (NIO)\", 0.027),\n",
        "    5: (\"Balboa Panameño (PAB)\", 1.0),\n",
        "    6: (\"Dólar Estadounidense (USD)\", 1.0),\n",
        "    7: (\"Euro (EUR)\", 1.07),\n",
        "    8: (\"Yen Japonés (JPY)\", 0.0067),\n",
        "    9: (\"Libras Esterlinas (GBP)\", 1.23),\n",
        "    10: (\"Dólar Canadiense (CAD)\", 0.75)\n",
        "}\n",
        "\n",
        "def mostrar_menu1():\n",
        "    print(\"\"\"Elija la moneda que desee:\n",
        "\"\"\")\n",
        "    for key, (divisa, _) in conversiones.items():\n",
        "        print(f\"{key}. {divisa}\")\n",
        "\n",
        "def mostrar_menu2():\n",
        "    print(\"\"\"\n",
        "Elija la opcion de moneda, a la cual desee convertir:\n",
        "\"\"\")\n",
        "    for key, (divisa, _) in conversiones.items():\n",
        "        print(f\"{key}. {divisa}\")\n",
        "\n",
        "def convertir_divisa():\n",
        "    mostrar_menu1()\n",
        "    origen = int(input(\"Elija la moneda de origen: \"))\n",
        "\n",
        "    mostrar_menu2()\n",
        "    destino = int(input(\"Elija la moneda a la cual desee convertir: \"))\n",
        "\n",
        "    cantidad = float(input(f\"Ingrese la cantidad en {conversiones[origen][0]}: \"))\n",
        "\n",
        "    cantidad_en_usd = cantidad * conversiones[origen][1]\n",
        "    cantidad_convertida = cantidad_en_usd / conversiones[destino][1]\n",
        "\n",
        "    print(f\"{cantidad} {conversiones[origen][0]} son {cantidad_convertida:.2f} {conversiones[destino][0]}\")\n",
        "\n",
        "convertir_divisa()"
      ],
      "metadata": {
        "id": "4RQuVzpeJdoT",
        "outputId": "ed1c8161-9967-4ba2-943c-a435a3cd5cc2",
        "colab": {
          "base_uri": "https://localhost:8080/"
        }
      },
      "execution_count": null,
      "outputs": [
        {
          "output_type": "stream",
          "name": "stdout",
          "text": [
            "Elija la moneda que desee:\n",
            "\n",
            "1. Colón Costarricense (CRC)\n",
            "2. Quetzal Guatemalteco (GTQ)\n",
            "3. Lempira Hondureño (HNL)\n",
            "4. Córdoba Nicaragüense (NIO)\n",
            "5. Balboa Panameño (PAB)\n",
            "6. Dólar Estadounidense (USD)\n",
            "7. Euro (EUR)\n",
            "8. Yen Japonés (JPY)\n",
            "9. Libras Esterlinas (GBP)\n",
            "10. Dólar Canadiense (CAD)\n",
            "Elija la moneda de origen: 1\n",
            "\n",
            "Elija la opcion de moneda, a la cual desee convertir:\n",
            "\n",
            "1. Colón Costarricense (CRC)\n",
            "2. Quetzal Guatemalteco (GTQ)\n",
            "3. Lempira Hondureño (HNL)\n",
            "4. Córdoba Nicaragüense (NIO)\n",
            "5. Balboa Panameño (PAB)\n",
            "6. Dólar Estadounidense (USD)\n",
            "7. Euro (EUR)\n",
            "8. Yen Japonés (JPY)\n",
            "9. Libras Esterlinas (GBP)\n",
            "10. Dólar Canadiense (CAD)\n",
            "Elija la moneda a la cual desee convertir: 2\n",
            "Ingrese la cantidad en Colón Costarricense (CRC): 10\n",
            "10.0 Colón Costarricense (CRC) son 0.13 Quetzal Guatemalteco (GTQ)\n"
          ]
        }
      ]
    },
    {
      "cell_type": "markdown",
      "source": [
        "# **LONGITUD**"
      ],
      "metadata": {
        "id": "D6g899GCNbek"
      }
    },
    {
      "cell_type": "code",
      "source": [
        "conversiones = {\n",
        "    1: (\"Milímetros\", 0.001),\n",
        "    2: (\"Centímetros\", 0.01),\n",
        "    3: (\"Metros\", 1),\n",
        "    4: (\"Kilómetros\", 1000),\n",
        "    5: (\"Pulgadas\", 0.0254),\n",
        "    6: (\"Pies\", 0.3048),\n",
        "    7: (\"Yardas\", 0.9144),\n",
        "    8: (\"Millas\", 1609.34),\n",
        "    9: (\"Micrómetros\", 1e-6),\n",
        "    10: (\"Nanómetros\", 1e-9)\n",
        "}\n",
        "\n",
        "def mostrar_menu1():\n",
        "    print(\"\"\"Elija la unidad de longitud que desee :\n",
        "\"\"\")\n",
        "    for key, (unidad, _) in conversiones.items():\n",
        "        print(f\"{key}. {unidad}\")\n",
        "\n",
        "def mostrar_menu2():\n",
        "    print(\"\"\"\n",
        "Elija la unidad de longitud a la que desee convertir: \"\"\")\n",
        "    for key, (unidad, _) in conversiones.items():\n",
        "        print(f\"{key}. {unidad}\")\n",
        "\n",
        "def convertir_longitud():\n",
        "    mostrar_menu1()\n",
        "    origen = int(input(\"Elija la unidad de origen: \"))\n",
        "\n",
        "    mostrar_menu2()\n",
        "    destino = int(input(\"Elija la unidad de destino: \"))\n",
        "\n",
        "    cantidad = float(input(f\"Ingrese la cantidad en {conversiones[origen][0]}: \"))\n",
        "\n",
        "    cantidad_en_metros = cantidad * conversiones[origen][1]\n",
        "    cantidad_convertida = cantidad_en_metros / conversiones[destino][1]\n",
        "\n",
        "    print(f\"{cantidad} {conversiones[origen][0]} son {cantidad_convertida:.2f} {conversiones[destino][0]}\")\n",
        "\n",
        "convertir_longitud()\n"
      ],
      "metadata": {
        "id": "9Bs3Ef7FMqtM",
        "outputId": "9dffb7f5-5fc6-4dea-b02f-e1330cf06836",
        "colab": {
          "base_uri": "https://localhost:8080/"
        }
      },
      "execution_count": null,
      "outputs": [
        {
          "output_type": "stream",
          "name": "stdout",
          "text": [
            "Elija la unidad de longitud que desee :\n",
            "\n",
            "1. Milímetros\n",
            "2. Centímetros\n",
            "3. Metros\n",
            "4. Kilómetros\n",
            "5. Pulgadas\n",
            "6. Pies\n",
            "7. Yardas\n",
            "8. Millas\n",
            "9. Micrómetros\n",
            "10. Nanómetros\n",
            "Elija la unidad de origen: 2\n",
            "\n",
            "Elija la unidad de longitud a la que desee convertir: \n",
            "1. Milímetros\n",
            "2. Centímetros\n",
            "3. Metros\n",
            "4. Kilómetros\n",
            "5. Pulgadas\n",
            "6. Pies\n",
            "7. Yardas\n",
            "8. Millas\n",
            "9. Micrómetros\n",
            "10. Nanómetros\n",
            "Elija la unidad de destino: 1\n",
            "Ingrese la cantidad en Centímetros: 100\n",
            "100.0 Centímetros son 1000.00 Milímetros\n"
          ]
        }
      ]
    },
    {
      "cell_type": "markdown",
      "source": [
        "# **MASA**"
      ],
      "metadata": {
        "id": "KPzWGbGLNyFS"
      }
    },
    {
      "cell_type": "code",
      "source": [
        "conversiones = {\n",
        "    1: (\"Miligramos\", 1e-6),\n",
        "    2: (\"Gramos\", 1e-3),\n",
        "    3: (\"Kilogramos\", 1),\n",
        "    4: (\"Toneladas métricas\", 1000),\n",
        "    5: (\"Onzas\", 0.0283495),\n",
        "    6: (\"Libras\", 0.453592),\n",
        "    7: (\"Toneladas cortas\", 907.185),\n",
        "    8: (\"Toneladas largas\", 1016.05),\n",
        "    9: (\"Microgramos\", 1e-9),\n",
        "    10: (\"Quintales métricos\", 100)\n",
        "}\n",
        "\n",
        "def mostrar_menu1():\n",
        "    print(\"Elija la unidad de masa que desee:\")\n",
        "    for key, (unidad, _) in conversiones.items():\n",
        "        print(f\"{key}. {unidad}\")\n",
        "\n",
        "def mostrar_menu2():\n",
        "    print(\"\\nElija la unidad de masa a la que desee convertir:\")\n",
        "    for key, (unidad, _) in conversiones.items():\n",
        "        print(f\"{key}. {unidad}\")\n",
        "\n",
        "def convertir_masa():\n",
        "    mostrar_menu1()\n",
        "    origen = int(input(\"Elija la unidad de origen: \"))\n",
        "\n",
        "    mostrar_menu2()\n",
        "    destino = int(input(\"Elija la unidad de destino: \"))\n",
        "\n",
        "    cantidad = float(input(f\"Ingrese la cantidad en {conversiones[origen][0]}: \"))\n",
        "\n",
        "    cantidad_en_kg = cantidad * conversiones[origen][1]\n",
        "    cantidad_convertida = cantidad_en_kg / conversiones[destino][1]\n",
        "\n",
        "    print(f\"{cantidad} {conversiones[origen][0]} son {cantidad_convertida:.2f} {conversiones[destino][0]}\")\n",
        "\n",
        "convertir_masa()\n"
      ],
      "metadata": {
        "id": "QDbuKrTJO6pp",
        "outputId": "0cd7aaee-6f22-4b11-d92b-082f191c2c39",
        "colab": {
          "base_uri": "https://localhost:8080/"
        }
      },
      "execution_count": null,
      "outputs": [
        {
          "output_type": "stream",
          "name": "stdout",
          "text": [
            "Elija la unidad de masa que desee:\n",
            "1. Miligramos\n",
            "2. Gramos\n",
            "3. Kilogramos\n",
            "4. Toneladas métricas\n",
            "5. Onzas\n",
            "6. Libras\n",
            "7. Toneladas cortas\n",
            "8. Toneladas largas\n",
            "9. Microgramos\n",
            "10. Quintales métricos\n",
            "Elija la unidad de origen: 3\n",
            "\n",
            "Elija la unidad de masa a la que desee convertir:\n",
            "1. Miligramos\n",
            "2. Gramos\n",
            "3. Kilogramos\n",
            "4. Toneladas métricas\n",
            "5. Onzas\n",
            "6. Libras\n",
            "7. Toneladas cortas\n",
            "8. Toneladas largas\n",
            "9. Microgramos\n",
            "10. Quintales métricos\n",
            "Elija la unidad de destino: 2\n",
            "Ingrese la cantidad en Kilogramos: 5\n",
            "5.0 Kilogramos son 5000.00 Gramos\n"
          ]
        }
      ]
    },
    {
      "cell_type": "markdown",
      "source": [
        "# **ALMACENAMIENTO**"
      ],
      "metadata": {
        "id": "JqpKrN0sP-jj"
      }
    },
    {
      "cell_type": "code",
      "source": [
        "conversiones = {\n",
        "    1: (\"Bits\", 1/8),\n",
        "    2: (\"Bytes\", 1),\n",
        "    3: (\"Kilobytes\", 1024),\n",
        "    4: (\"Megabytes\", 1024**2),\n",
        "    5: (\"Gigabytes\", 1024**3),\n",
        "    6: (\"Terabytes\", 1024**4),\n",
        "    7: (\"Petabytes\", 1024**5),\n",
        "    8: (\"Exabytes\", 1024**6),\n",
        "    9: (\"Zettabytes\", 1024**7),\n",
        "    10: (\"Yottabytes\", 1024**8)\n",
        "}\n",
        "\n",
        "def mostrar_menu1():\n",
        "    print(\"Elija la unidad de almacenamiento que desee:\")\n",
        "    for key, (unidad, _) in conversiones.items():\n",
        "        print(f\"{key}. {unidad}\")\n",
        "\n",
        "def mostrar_menu2():\n",
        "    print(\"\\nElija la unidad de almacenamiento a la que desee convertir:\")\n",
        "    for key, (unidad, _) in conversiones.items():\n",
        "        print(f\"{key}. {unidad}\")\n",
        "\n",
        "def convertir_almacenamiento():\n",
        "    mostrar_menu1()\n",
        "    origen = int(input(\"Elija la unidad de origen: \"))\n",
        "\n",
        "    mostrar_menu2()\n",
        "    destino = int(input(\"Elija la unidad de destino: \"))\n",
        "\n",
        "    cantidad = float(input(f\"Ingrese la cantidad en {conversiones[origen][0]}: \"))\n",
        "\n",
        "    cantidad_en_bytes = cantidad * conversiones[origen][1]\n",
        "    cantidad_convertida = cantidad_en_bytes / conversiones[destino][1]\n",
        "\n",
        "    print(f\"{cantidad} {conversiones[origen][0]} son {cantidad_convertida:.2f} {conversiones[destino][0]}\")\n",
        "\n",
        "convertir_almacenamiento()\n"
      ],
      "metadata": {
        "id": "9mvJWmcDTrmO",
        "outputId": "77279712-891e-44cf-e40a-d616294e108b",
        "colab": {
          "base_uri": "https://localhost:8080/"
        }
      },
      "execution_count": null,
      "outputs": [
        {
          "output_type": "stream",
          "name": "stdout",
          "text": [
            "Elija la unidad de almacenamiento que desee:\n",
            "1. Bits\n",
            "2. Bytes\n",
            "3. Kilobytes\n",
            "4. Megabytes\n",
            "5. Gigabytes\n",
            "6. Terabytes\n",
            "7. Petabytes\n",
            "8. Exabytes\n",
            "9. Zettabytes\n",
            "10. Yottabytes\n",
            "Elija la unidad de origen: 4\n",
            "\n",
            "Elija la unidad de almacenamiento a la que desee convertir:\n",
            "1. Bits\n",
            "2. Bytes\n",
            "3. Kilobytes\n",
            "4. Megabytes\n",
            "5. Gigabytes\n",
            "6. Terabytes\n",
            "7. Petabytes\n",
            "8. Exabytes\n",
            "9. Zettabytes\n",
            "10. Yottabytes\n",
            "Elija la unidad de destino: 5\n",
            "Ingrese la cantidad en Megabytes: 1024\n",
            "1024.0 Megabytes son 1.00 Gigabytes\n"
          ]
        }
      ]
    },
    {
      "cell_type": "markdown",
      "source": [
        "# **TIEMPO**"
      ],
      "metadata": {
        "id": "_oHfwUPaT83T"
      }
    },
    {
      "cell_type": "code",
      "source": [
        "conversiones = {\n",
        "    1: (\"Segundos\", 1),\n",
        "    2: (\"Minutos\", 60),\n",
        "    3: (\"Horas\", 60 * 60),\n",
        "    4: (\"Días\", 24 * 60 * 60),\n",
        "    5: (\"Meses\", 30.44 * 24 * 60 * 60),\n",
        "    6: (\"Años\", 365.25 * 24 * 60 * 60),\n",
        "    7: (\"Bienios\", 2 * 365.25 * 24 * 60 * 60),\n",
        "    8: (\"Lustros\", 5 * 365.25 * 24 * 60 * 60),\n",
        "    9: (\"Sexenios\", 6 * 365.25 * 24 * 60 * 60),\n",
        "    10: (\"Décadas\", 10 * 365.25 * 24 * 60 * 60),\n",
        "    11: (\"Siglos\", 100 * 365.25 * 24 * 60 * 60),\n",
        "    12: (\"Milenios\", 1000 * 365.25 * 24 * 60 * 60)\n",
        "}\n",
        "\n",
        "dias_por_mes = {\n",
        "    1: 31,  # Meses y dias de cada mes.\n",
        "    2: 28,\n",
        "    3: 31,\n",
        "    4: 30,\n",
        "    5: 31,\n",
        "    6: 30,\n",
        "    7: 31,\n",
        "    8: 31,\n",
        "    9: 30,\n",
        "    10: 31,\n",
        "    11: 30,\n",
        "    12: 31\n",
        "}\n",
        "\n",
        "def dias_en_mes(promedio=True, año=None):\n",
        "    if promedio:\n",
        "        return 30.44\n",
        "    else:\n",
        "        if año is None:\n",
        "            raise ValueError(\"El año debe ser proporcionado para cálculos exactos.\")\n",
        "        es_bisiesto = (año % 4 == 0 and (año % 100 != 0 or año % 400 == 0))\n",
        "        dias = dias_por_mes.copy()\n",
        "        if es_bisiesto:\n",
        "            dias[2] = 29\n",
        "        return dias\n",
        "\n",
        "def convertir_tiempo():\n",
        "    mostrar_menu1()\n",
        "    origen = int(input(\"Elija la unidad de origen: \"))\n",
        "\n",
        "    mostrar_menu2()\n",
        "    destino = int(input(\"Elija la unidad de destino: \"))\n",
        "\n",
        "    cantidad = float(input(f\"Ingrese la cantidad en {conversiones[origen][0]}: \"))\n",
        "\n",
        "    cantidad_en_segundos = cantidad * conversiones[origen][1]\n",
        "    cantidad_convertida = cantidad_en_segundos / conversiones[destino][1]\n",
        "\n",
        "    print(f\"{cantidad} {conversiones[origen][0]} son {cantidad_convertida:.2f} {conversiones[destino][0]}\")\n",
        "\n",
        "def mostrar_menu1():\n",
        "    print(\"Elija la unidad de tiempo que desee:\")\n",
        "    for key, (unidad, _) in conversiones.items():\n",
        "        print(f\"{key}. {unidad}\")\n",
        "\n",
        "def mostrar_menu2():\n",
        "    print(\"\\nElija la unidad de tiempo a la que desee convertir:\")\n",
        "    for key, (unidad, _) in conversiones.items():\n",
        "        print(f\"{key}. {unidad}\")\n",
        "\n",
        "convertir_tiempo()\n"
      ],
      "metadata": {
        "id": "PYo83Pq6UAr5",
        "outputId": "757f4c6b-5e9e-4726-813b-21c12cd745ca",
        "colab": {
          "base_uri": "https://localhost:8080/"
        }
      },
      "execution_count": null,
      "outputs": [
        {
          "output_type": "stream",
          "name": "stdout",
          "text": [
            "Elija la unidad de tiempo que desee:\n",
            "1. Segundos\n",
            "2. Minutos\n",
            "3. Horas\n",
            "4. Días\n",
            "5. Meses\n",
            "6. Años\n",
            "7. Bienios\n",
            "8. Lustros\n",
            "9. Sexenios\n",
            "10. Décadas\n",
            "11. Siglos\n",
            "12. Milenios\n",
            "Elija la unidad de origen: 2\n",
            "\n",
            "Elija la unidad de tiempo a la que desee convertir:\n",
            "1. Segundos\n",
            "2. Minutos\n",
            "3. Horas\n",
            "4. Días\n",
            "5. Meses\n",
            "6. Años\n",
            "7. Bienios\n",
            "8. Lustros\n",
            "9. Sexenios\n",
            "10. Décadas\n",
            "11. Siglos\n",
            "12. Milenios\n",
            "Elija la unidad de destino: 1\n",
            "Ingrese la cantidad en Minutos: 2\n",
            "2.0 Minutos son 120.00 Segundos\n"
          ]
        }
      ]
    },
    {
      "cell_type": "markdown",
      "source": [
        "# **TIEMPO**"
      ],
      "metadata": {
        "id": "DCajBj2HUFf2"
      }
    },
    {
      "cell_type": "code",
      "source": [
        "conversiones = {\n",
        "    1: (\"Mililitros\", 1),\n",
        "    2: (\"Centímetros cúbicos\", 1),\n",
        "    3: (\"Litros\", 1000),\n",
        "    4: (\"Decímetros cúbicos\", 1000),\n",
        "    5: (\"Metros cúbicos\", 1000000),\n",
        "    6: (\"Pies cúbicos\", 28316.8466),\n",
        "    7: (\"Yardas cúbicas\", 764554.85798),\n",
        "    8: (\"Galones (EE.UU.)\", 3785.41),\n",
        "    9: (\"Galones (Imperial)\", 4546.09),\n",
        "    10: (\"Onzas líquidas (EE.UU.)\", 29.5735)\n",
        "}\n",
        "\n",
        "def mostrar_menu1():\n",
        "    print(\"Elija la unidad de volumen que desee:\")\n",
        "    for key, (unidad, _) in conversiones.items():\n",
        "        print(f\"{key}. {unidad}\")\n",
        "\n",
        "def mostrar_menu2():\n",
        "    print(\"\\nElija la unidad de volumen a la que desee convertir:\")\n",
        "    for key, (unidad, _) in conversiones.items():\n",
        "        print(f\"{key}. {unidad}\")\n",
        "\n",
        "def convertir_volumen():\n",
        "    mostrar_menu1()\n",
        "    origen = int(input(\"Elija la unidad de origen: \"))\n",
        "\n",
        "    mostrar_menu2()\n",
        "    destino = int(input(\"Elija la unidad de destino: \"))\n",
        "\n",
        "    cantidad = float(input(f\"Ingrese la cantidad en {conversiones[origen][0]}: \"))\n",
        "\n",
        "    cantidad_en_cm3 = cantidad * conversiones[origen][1]\n",
        "    cantidad_convertida = cantidad_en_cm3 / conversiones[destino][1]\n",
        "\n",
        "    print(f\"{cantidad} {conversiones[origen][0]} son {cantidad_convertida:.3f} {conversiones[destino][0]}\")\n",
        "\n",
        "convertir_volumen()\n"
      ],
      "metadata": {
        "id": "atujxV-HUcij",
        "outputId": "cb9d803d-aa74-4a80-b944-a83dad0b7978",
        "colab": {
          "base_uri": "https://localhost:8080/"
        }
      },
      "execution_count": null,
      "outputs": [
        {
          "output_type": "stream",
          "name": "stdout",
          "text": [
            "Elija la unidad de volumen que desee:\n",
            "1. Mililitros\n",
            "2. Centímetros cúbicos\n",
            "3. Litros\n",
            "4. Decímetros cúbicos\n",
            "5. Metros cúbicos\n",
            "6. Pies cúbicos\n",
            "7. Yardas cúbicas\n",
            "8. Galones (EE.UU.)\n",
            "9. Galones (Imperial)\n",
            "10. Onzas líquidas (EE.UU.)\n",
            "Elija la unidad de origen: 3\n",
            "\n",
            "Elija la unidad de volumen a la que desee convertir:\n",
            "1. Mililitros\n",
            "2. Centímetros cúbicos\n",
            "3. Litros\n",
            "4. Decímetros cúbicos\n",
            "5. Metros cúbicos\n",
            "6. Pies cúbicos\n",
            "7. Yardas cúbicas\n",
            "8. Galones (EE.UU.)\n",
            "9. Galones (Imperial)\n",
            "10. Onzas líquidas (EE.UU.)\n",
            "Elija la unidad de destino: 1\n",
            "Ingrese la cantidad en Litros: 1\n",
            "1.0 Litros son 1000.000 Mililitros\n"
          ]
        }
      ]
    },
    {
      "cell_type": "markdown",
      "source": [
        "# **AREA**"
      ],
      "metadata": {
        "id": "J1lL2NXmUdmx"
      }
    },
    {
      "cell_type": "code",
      "source": [
        "conversiones = {\n",
        "    1: (\"Milímetros cuadrados\", 1e-6),\n",
        "    2: (\"Centímetros cuadrados\", 1e-4),\n",
        "    3: (\"Decímetros cuadrados\", 1e-2),\n",
        "    4: (\"Metros cuadrados\", 1),\n",
        "    5: (\"Hectáreas\", 1e4),\n",
        "    6: (\"Kilómetros cuadrados\", 1e6),\n",
        "    7: (\"Pies cuadrados\", 0.092903),\n",
        "    8: (\"Yardas cuadradas\", 0.836127),\n",
        "    9: (\"Acres\", 4046.86),\n",
        "    10: (\"Millas cuadradas\", 2.58999e6)\n",
        "}\n",
        "\n",
        "def mostrar_menu1():\n",
        "    print(\"Elija la unidad de área que desee:\")\n",
        "    for key, (unidad, _) in conversiones.items():\n",
        "        print(f\"{key}. {unidad}\")\n",
        "\n",
        "def mostrar_menu2():\n",
        "    print(\"\\nElija la unidad de área a la que desee convertir:\")\n",
        "    for key, (unidad, _) in conversiones.items():\n",
        "        print(f\"{key}. {unidad}\")\n",
        "\n",
        "def convertir_area():\n",
        "    mostrar_menu1()\n",
        "    origen = int(input(\"Elija la unidad de origen: \"))\n",
        "\n",
        "    mostrar_menu2()\n",
        "    destino = int(input(\"Elija la unidad de destino: \"))\n",
        "\n",
        "    cantidad = float(input(f\"Ingrese la cantidad en {conversiones[origen][0]}: \"))\n",
        "\n",
        "    cantidad_en_m2 = cantidad * conversiones[origen][1]\n",
        "    cantidad_convertida = cantidad_en_m2 / conversiones[destino][1]\n",
        "\n",
        "    print(f\"{cantidad} {conversiones[origen][0]} son {cantidad_convertida:.2f} {conversiones[destino][0]}\")\n",
        "\n",
        "convertir_area()"
      ],
      "metadata": {
        "id": "exERt9tYUmAf",
        "outputId": "a0012a6b-0228-4a58-900e-6fe665ed2d2e",
        "colab": {
          "base_uri": "https://localhost:8080/"
        }
      },
      "execution_count": null,
      "outputs": [
        {
          "output_type": "stream",
          "name": "stdout",
          "text": [
            "Elija la unidad de área que desee:\n",
            "1. Milímetros cuadrados\n",
            "2. Centímetros cuadrados\n",
            "3. Decímetros cuadrados\n",
            "4. Metros cuadrados\n",
            "5. Hectáreas\n",
            "6. Kilómetros cuadrados\n",
            "7. Pies cuadrados\n",
            "8. Yardas cuadradas\n",
            "9. Acres\n",
            "10. Millas cuadradas\n",
            "Elija la unidad de origen: 3\n",
            "\n",
            "Elija la unidad de área a la que desee convertir:\n",
            "1. Milímetros cuadrados\n",
            "2. Centímetros cuadrados\n",
            "3. Decímetros cuadrados\n",
            "4. Metros cuadrados\n",
            "5. Hectáreas\n",
            "6. Kilómetros cuadrados\n",
            "7. Pies cuadrados\n",
            "8. Yardas cuadradas\n",
            "9. Acres\n",
            "10. Millas cuadradas\n",
            "Elija la unidad de destino: 2\n",
            "Ingrese la cantidad en Decímetros cuadrados: 2\n",
            "2.0 Decímetros cuadrados son 200.00 Centímetros cuadrados\n"
          ]
        }
      ]
    },
    {
      "cell_type": "code",
      "source": [
        "def convertir_cajas_unidades (cajas):\n",
        "   return cajas * 25\n",
        "\n",
        "def convertir_unidades_cajas(unidades):\n",
        "   return unidades/ 25\n",
        "\n",
        "def convertir_sacos_libras (sacos):\n",
        "   return sacos * 50\n",
        "\n",
        "def convertir_libras_sacos (libras):\n",
        "   return libras / 50\n",
        "\n",
        "def convertir_fardos_unidades (fardos):\n",
        "   return fardos *5\n",
        "\n",
        "def convertir_unidades_fardos (unidades):\n",
        "   return unidades/5\n",
        "\n",
        "#Aqui es la conversion general\n",
        "def conversor():\n",
        "\n",
        "   print (\"Seleccione la conversión que desea realizar: \")\n",
        "   print (\"i: Cajas a Unidades\")\n",
        "   print(\"2: Unidades a Cajas\")\n",
        "   print (\"3: Sacos a Libras\")\n",
        "   print (\"4: Libras a Sacos\")\n",
        "   print (\"5: Fardos a Unidades\")\n",
        "   print (\"6: Unidades a Fardos\")\n",
        "\n",
        "   opcion= int (input (\"Ingrese el número de la opción deseada: \"))\n",
        "\n",
        "   if opcion == 1:\n",
        "       cajas = float(input(\" Ingrese el nümero de cajas: \"))\n",
        "       print (f\"{cajas} cajas son {convertir_cajas_unidades (cajas)} unidades.\")\n",
        "   elif opcion ==2:\n",
        "       unidades = float(input (\"Ingrese el número de unidades: \"))\n",
        "       print(f\"{unidades} unidades son {convertir_unidades_cajas (unidades)} cajas.\")\n",
        "   elif opcion == 3:\n",
        "       sacos = float(input (\" Ingrese el número de sacos: \"))\n",
        "       print(f\" (sacos) sacos son (convertir sacos libras (sacos) ) libras.\")\n",
        "   elif opcion == 4:\n",
        "       libras = float(input (\" Ingrese el número de libras: \"))\n",
        "       print(f\"{libras} libras son {onvertir_libras_sacos(libras)} sacos.\")\n",
        "   elif opcion == 5:\n",
        "       fardos = float(input (\" Ingrese el número de fardos: \"))\n",
        "       print(f\"{ fardos} fardos son {convertir_fardos_unidades (fardos)} unidades.\")\n",
        "   elif opcion == 6:\n",
        "       unidades = float(input (\"Ingrese el número de unidades: \"))\n",
        "       print(f\"{unidades} unidades son {convertir_unidades_fardos (unidades)} fardos.\")\n",
        "   else:\n",
        "      print (\"Opción no válida\")\n",
        "\n",
        "conversor()"
      ],
      "metadata": {
        "id": "9QpPo9vhWd-_",
        "outputId": "d17b2bbe-f54d-49cb-dea3-95b1dd089427",
        "colab": {
          "base_uri": "https://localhost:8080/"
        }
      },
      "execution_count": null,
      "outputs": [
        {
          "output_type": "stream",
          "name": "stdout",
          "text": [
            "Seleccione la conversión que desea realizar: \n",
            "i: Cajas a Unidades\n",
            "2: Unidades a Cajas\n",
            "3: Sacos a Libras\n",
            "4: Libras a Sacos\n",
            "5: Fardos a Unidades\n",
            "6: Unidades a Fardos\n",
            "Ingrese el número de la opción deseada: 2\n",
            "Ingrese el número de unidades: 125\n",
            "125.0 unidades son 5.0 cajas.\n"
          ]
        }
      ]
    },
    {
      "cell_type": "markdown",
      "source": [
        "otro"
      ],
      "metadata": {
        "id": "0HXBiFYAHcfx"
      }
    },
    {
      "cell_type": "code",
      "source": [
        "serie = [1,2,3,3,4,4,1,8,9]\n",
        "print(serie.count(1))"
      ],
      "metadata": {
        "id": "h_ai3-EPgYNa",
        "outputId": "0b6a978e-76de-4a54-b337-ee5689491a43",
        "colab": {
          "base_uri": "https://localhost:8080/"
        }
      },
      "execution_count": null,
      "outputs": [
        {
          "output_type": "stream",
          "name": "stdout",
          "text": [
            "2\n"
          ]
        }
      ]
    },
    {
      "cell_type": "code",
      "source": [
        "23numeros = []\n",
        "for i in range (1,10):\n",
        "  numeros.append(input(\"Num: \" + str(i)+\":\"))\n",
        "num = int(input(\"Numero a buscar: \"))\n",
        "print(\"Serie: \", numeros, \"El numero\", num, \", Se repite:\", numeros.count(num))"
      ],
      "metadata": {
        "id": "ift0Tlekgxzc",
        "outputId": "2fd6f75a-5b16-4570-82fe-6710310f76e2",
        "colab": {
          "base_uri": "https://localhost:8080/"
        }
      },
      "execution_count": null,
      "outputs": [
        {
          "output_type": "stream",
          "name": "stdout",
          "text": [
            "Num: 1:1\n",
            "Num: 2:1\n",
            "Num: 3:1\n",
            "Num: 4:\n",
            "Num: 5:\n",
            "Num: 6:3\n",
            "Num: 7:4\n",
            "Num: 8:2\n",
            "Num: 9:4\n",
            "Numero a buscar: 1\n",
            "Serie:  ['1', '1', '1', '', '', '3', '4', '2', '4'] El numero 1 , Se repite: 0\n"
          ]
        }
      ]
    },
    {
      "cell_type": "code",
      "source": [
        "numeros = [1,5,3,4,6,2]\n",
        "numeros.sort()\n",
        "print(numeros)"
      ],
      "metadata": {
        "id": "9gFRNJ8-kQui",
        "outputId": "779958de-5ac7-4c4c-9a5e-b2919b6334cf",
        "colab": {
          "base_uri": "https://localhost:8080/"
        }
      },
      "execution_count": null,
      "outputs": [
        {
          "output_type": "stream",
          "name": "stdout",
          "text": [
            "[1, 2, 3, 4, 5, 6]\n"
          ]
        }
      ]
    },
    {
      "cell_type": "markdown",
      "source": [
        "**DICCIONARIO**"
      ],
      "metadata": {
        "id": "FTuzqvcxkRuz"
      }
    },
    {
      "cell_type": "code",
      "source": [
        "datos = {\n",
        "    \"Codigo\":\"SMSS132922\",\n",
        "    \"Nombre\":\"David Portillo\",\n",
        "    \"Materias\":[\n",
        "        {\"Codigo\":\"683\",\"Nombre\":\"Programacion\",\"notas\":{\n",
        "            \"c1\":{\"lab1\":8,\"lab2\":9,\"parcial\":10},\n",
        "            \"c1\":{\"lab1\":4,\"lab2\":9,\"parcial\":10},\n",
        "            \"c1\":{\"lab1\":3,\"lab2\":4,\"parcial\":5},\n",
        "            }\n",
        "         },\n",
        "        {\"Codigo\":\"683\",\"Nombre\":\"Matematica\"}\n",
        "    ]\n",
        "}\n",
        "print(datos[\"Nombre\"], datos[\"Materias\"][0][\"Nombre\"], datos[\"Materias\"][0][\"notas\"][\"c1\"])"
      ],
      "metadata": {
        "id": "XeQfw92xkXR3",
        "outputId": "70401deb-bfcd-4279-9b30-e71d752caab2",
        "colab": {
          "base_uri": "https://localhost:8080/"
        }
      },
      "execution_count": null,
      "outputs": [
        {
          "output_type": "stream",
          "name": "stdout",
          "text": [
            "David Portillo Programacion {'lab1': 3, 'lab2': 4, 'parcial': 5}\n"
          ]
        }
      ]
    },
    {
      "cell_type": "markdown",
      "source": [
        "Desarrolle el conversor de Area (superficie) haciendo uso de los diccionarios y las funciones de ususario en python"
      ],
      "metadata": {
        "id": "Gsr47sfdh0_v"
      }
    },
    {
      "cell_type": "code",
      "source": [
        "# Diccionario con factores de conversión relativos a 1 metro cuadrado (m²)\n",
        "conversion_factors = {\n",
        "    'm²': 1,                    # Metro cuadrado\n",
        "    'cm²': 10000,               # Centímetro cuadrado\n",
        "    'mm²': 1e6,                 # Milímetro cuadrado\n",
        "    'km²': 1e-6,                # Kilómetro cuadrado\n",
        "    'ft²': 10.7639,             # Pie cuadrado\n",
        "    'in²': 1550.0031,           # Pulgada cuadrada\n",
        "    'yd²': 1.19599,             # Yarda cuadrada\n",
        "    'acre': 0.000247105,        # Acre\n",
        "    'ha': 0.0001,               # Hectárea\n",
        "}\n",
        "\n",
        "# Función para convertir de una unidad a otra\n",
        "def convertir_area(cantidad, unidad_origen, unidad_destino):\n",
        "    if unidad_origen not in conversion_factors:\n",
        "        raise ValueError(f\"Unidad de origen '{unidad_origen}' no es válida.\")\n",
        "    if unidad_destino not in conversion_factors:\n",
        "        raise ValueError(f\"Unidad de destino '{unidad_destino}' no es válida.\")\n",
        "\n",
        "    # Convertir de unidad de origen a metros cuadrados\n",
        "    metros_cuadrados = cantidad * conversion_factors[unidad_origen]\n",
        "\n",
        "    # Convertir de metros cuadrados a unidad de destino\n",
        "    resultado = metros_cuadrados / conversion_factors[unidad_destino]\n",
        "\n",
        "    return resultado\n",
        "\n",
        "# Ejemplo de uso\n",
        "cantidad = 1000\n",
        "unidad_origen = 'm²'\n",
        "unidad_destino = 'ft²'\n",
        "\n",
        "resultado = convertir_area(cantidad, unidad_origen, unidad_destino)\n",
        "print(f\"{cantidad} {unidad_origen} son {resultado:.2f} {unidad_destino}\")\n"
      ],
      "metadata": {
        "id": "Rudnx4Q1hw6b",
        "outputId": "80a0727a-834d-48f1-88b6-eed9c14af8d6",
        "colab": {
          "base_uri": "https://localhost:8080/"
        }
      },
      "execution_count": null,
      "outputs": [
        {
          "output_type": "stream",
          "name": "stdout",
          "text": [
            "1000 m² son 92.90 ft²\n"
          ]
        }
      ]
    },
    {
      "cell_type": "code",
      "source": [
        "# Diccionario con tasas de impuestos para diferentes actividades económicas\n",
        "tasas_impuestos = {\n",
        "    'comercio': 0.15,       # 15% de impuesto para comercio\n",
        "    'servicios': 0.10,      # 10% de impuesto para servicios\n",
        "    'industria': 0.20,      # 20% de impuesto para industria\n",
        "    'agricultura': 0.05     # 5% de impuesto para agricultura\n",
        "}\n",
        "\n",
        "# Función para calcular el impuesto\n",
        "def calcular_impuesto(ingresos, actividad):\n",
        "    if actividad not in tasas_impuestos:\n",
        "        raise ValueError(f\"Actividad económica '{actividad}' no es válida.\")\n",
        "\n",
        "    tasa = tasas_impuestos[actividad]\n",
        "    impuesto = ingresos * tasa\n",
        "\n",
        "    return impuesto\n",
        "\n",
        "# Ejemplo de uso\n",
        "ingresos = 50000  # Ingresos de la actividad económica\n",
        "actividad = 'comercio'\n",
        "\n",
        "impuesto = calcular_impuesto(ingresos, actividad)\n",
        "print(f\"El impuesto para la actividad de {actividad} con ingresos de {ingresos} es {impuesto:.2f}\")\n"
      ],
      "metadata": {
        "id": "9WhQOOzSiN_a"
      },
      "execution_count": null,
      "outputs": []
    },
    {
      "cell_type": "code",
      "source": [
        "\n",
        "cuentas = {\n",
        "    '1234': {'pin': '4321', 'saldo': 1000},\n",
        "    '5678': {'pin': '8765', 'saldo': 2000},\n",
        "    '9101': {'pin': '1019', 'saldo': 1500},\n",
        "}\n",
        "\n",
        "def validar_pin(numero_cuenta, pin):\n",
        "    if numero_cuenta in cuentas and cuentas[numero_cuenta]['pin'] == pin:\n",
        "        return True\n",
        "    return False\n",
        "\n",
        "def consultar_saldo(numero_cuenta):\n",
        "    return cuentas[numero_cuenta]['saldo']\n",
        "\n",
        "def depositar(numero_cuenta, monto):\n",
        "    cuentas[numero_cuenta]['saldo'] += monto\n",
        "    return cuentas[numero_cuenta]['saldo']\n",
        "\n",
        "def retirar(numero_cuenta, monto):\n",
        "    if cuentas[numero_cuenta]['saldo'] >= monto:\n",
        "        cuentas[numero_cuenta]['saldo'] -= monto\n",
        "        return cuentas[numero_cuenta]['saldo']\n",
        "    else:\n",
        "        raise ValueError(\"Fondos insuficientes\")\n",
        "\n",
        "def cajero_automatico():\n",
        "    print(\"Bienvenido al Cajero Automático\")\n",
        "\n",
        "    numero_cuenta = input(\"Ingrese su número de cuenta: \")\n",
        "    pin = input(\"Ingrese su PIN: \")\n",
        "\n",
        "    if validar_pin(numero_cuenta, pin):\n",
        "        while True:\n",
        "            print(\"\\nOpciones:\")\n",
        "            print(\"1. Consultar Saldo\")\n",
        "            print(\"2. Depositar Dinero\")\n",
        "            print(\"3. Retirar Dinero\")\n",
        "            print(\"4. Salir\")\n",
        "\n",
        "            opcion = input(\"Seleccione una opción: \")\n",
        "\n",
        "            if opcion == '1':\n",
        "                saldo = consultar_saldo(numero_cuenta)\n",
        "                print(f\"Su saldo actual es: {saldo}\")\n",
        "\n",
        "            elif opcion == '2':\n",
        "                monto = float(input(\"Ingrese el monto a depositar: \"))\n",
        "                saldo = depositar(numero_cuenta, monto)\n",
        "                print(f\"Depósito exitoso. Su nuevo saldo es: {saldo}\")\n",
        "\n",
        "            elif opcion == '3':\n",
        "                monto = float(input(\"Ingrese el monto a retirar: \"))\n",
        "                try:\n",
        "                    saldo = retirar(numero_cuenta, monto)\n",
        "                    print(f\"Retiro exitoso. Su nuevo saldo es: {saldo}\")\n",
        "                except ValueError as e:\n",
        "                    print(e)\n",
        "\n",
        "            elif opcion == '4':\n",
        "                print(\"Gracias por usar el cajero automático. ¡Hasta luego!\")\n",
        "                break\n",
        "\n",
        "            else:\n",
        "                print(\"Opción no válida. Inténtelo de nuevo.\")\n",
        "    else:\n",
        "        print(\"Número de cuenta o PIN incorrecto.\")\n",
        "\n",
        "cajero_automatico()\n"
      ],
      "metadata": {
        "id": "ZAMIPJ2miQAJ",
        "outputId": "261e07bd-4d9c-4e7a-c43a-789d44283ddc",
        "colab": {
          "base_uri": "https://localhost:8080/"
        },
        "collapsed": true
      },
      "execution_count": null,
      "outputs": [
        {
          "output_type": "stream",
          "name": "stdout",
          "text": [
            "Bienvenido al Cajero Automático\n",
            "Ingrese su número de cuenta: 1234\n",
            "Ingrese su PIN: 4321\n",
            "\n",
            "Opciones:\n",
            "1. Consultar Saldo\n",
            "2. Depositar Dinero\n",
            "3. Retirar Dinero\n",
            "4. Salir\n",
            "Seleccione una opción: 4\n",
            "Gracias por usar el cajero automático. ¡Hasta luego!\n"
          ]
        }
      ]
    },
    {
      "cell_type": "markdown",
      "source": [
        "Desarrolle un programa en Python que simule a un cajero automático.\n",
        "Haga uso de las estructuras de control"
      ],
      "metadata": {
        "id": "H5KmxTH7QyeS"
      }
    },
    {
      "cell_type": "code",
      "source": [
        "def mostrar_menu():\n",
        "    print(\"***** Cajero Automático *****\")\n",
        "    print(\"1. Consultar saldo\")\n",
        "    print(\"2. Depositar dinero\")\n",
        "    print(\"3. Retirar dinero\")\n",
        "    print(\"4. Salir\")\n",
        "    print(\"*****************************\")\n",
        "\n",
        "def consultar_saldo(saldo):\n",
        "    print(f\"Su saldo actual es: ${saldo:.2f}\")\n",
        "\n",
        "def depositar_dinero(saldo):\n",
        "    try:\n",
        "        cantidad = float(input(\"Ingrese la cantidad a depositar: $\"))\n",
        "        if cantidad <= 0:\n",
        "            print(\"La cantidad debe ser positiva.\")\n",
        "        else:\n",
        "            saldo += cantidad\n",
        "            print(f\"Depósito exitoso. Su nuevo saldo es: ${saldo:.2f}\")\n",
        "    except ValueError:\n",
        "        print(\"Por favor, ingrese un monto válido.\")\n",
        "\n",
        "    return saldo\n",
        "\n",
        "def calcular_billetes(monto):\n",
        "    denominaciones = [20, 10, 5, 1, 0.25]\n",
        "    billetes = {}\n",
        "\n",
        "    for valor in denominaciones:\n",
        "        cantidad_billetes, monto = divmod(monto, valor)\n",
        "        if cantidad_billetes > 0:\n",
        "            billetes[valor] = int(cantidad_billetes)\n",
        "\n",
        "    return billetes\n",
        "\n",
        "def retirar_dinero(saldo):\n",
        "    try:\n",
        "        cantidad = float(input(\"Ingrese la cantidad a retirar: $\"))\n",
        "        if cantidad <= 0:\n",
        "            print(\"La cantidad debe ser positiva.\")\n",
        "        elif cantidad > saldo:\n",
        "            print(\"Fondos insuficientes.\")\n",
        "        else:\n",
        "            saldo -= cantidad\n",
        "            billetes = calcular_billetes(cantidad)\n",
        "            print(\"Retiro exitoso.\")\n",
        "            for valor, cantidad in billetes.items():\n",
        "                print(f\"${valor} billete(s): {cantidad}\")\n",
        "            print(f\"Su nuevo saldo es: ${saldo:.2f}\")\n",
        "    except ValueError:\n",
        "        print(\"Por favor, ingrese un monto válido.\")\n",
        "\n",
        "    return saldo\n",
        "\n",
        "def main():\n",
        "    saldo = 1000.00\n",
        "    while True:\n",
        "        mostrar_menu()\n",
        "        try:\n",
        "            opcion = int(input(\"Seleccione una opción: \"))\n",
        "            if opcion == 1:\n",
        "                consultar_saldo(saldo)\n",
        "            elif opcion == 2:\n",
        "                saldo = depositar_dinero(saldo)\n",
        "            elif opcion == 3:\n",
        "                saldo = retirar_dinero(saldo)\n",
        "            elif opcion == 4:\n",
        "                print(\"Gracias por usar el cajero automático. ¡Hasta luego!\")\n",
        "                break\n",
        "            else:\n",
        "                print(\"Opción no válida. Por favor, seleccione una opción del menú.\")\n",
        "        except ValueError:\n",
        "            print(\"Por favor, ingrese un número válido.\")\n",
        "\n",
        "if __name__ == \"__main__\":\n",
        "    main()\n"
      ],
      "metadata": {
        "id": "r_xhptZtQ0Fh",
        "outputId": "e6e64e20-ee12-4a8c-e9c7-6689cd15caf7",
        "colab": {
          "base_uri": "https://localhost:8080/"
        }
      },
      "execution_count": 11,
      "outputs": [
        {
          "output_type": "stream",
          "name": "stdout",
          "text": [
            "***** Cajero Automático *****\n",
            "1. Consultar saldo\n",
            "2. Depositar dinero\n",
            "3. Retirar dinero\n",
            "4. Salir\n",
            "*****************************\n",
            "Seleccione una opción: 4\n",
            "Gracias por usar el cajero automático. ¡Hasta luego!\n"
          ]
        }
      ]
    },
    {
      "cell_type": "code",
      "source": [
        "conversor_factores = {\n",
        "    'm2': 1,\n",
        "    'ft2': 10.7639,\n",
        "    'yd2': 1.1959,\n",
        "    'vara2': 0.6988,\n",
        "    't': 628.8,\n",
        "    'manzanas': 6988.96,\n",
        "    'hectarea': 0.0001,\n",
        "}\n",
        "\n",
        "def convertir_area(valor, unidad_origen, unidad_destino):\n",
        "  factor_origen = conversor_factores[unidad_origen]\n",
        "  factor_destino = conversor_factores[unidad_destino]\n",
        "  return valor * factor_origen / factor_destino\n",
        "\n",
        "def mostrar_menu():\n",
        "  print('Elije la unidad que deseas convertir:')\n",
        "  for i, unidad in enumerate(conversor_factores.keys()):\n",
        "    print(f'{i+1}. {unidad}')\n",
        "\n",
        "mostrar_menu()\n",
        "opcion_origen = int(input('Elige una opción: '))\n",
        "unidad_origen = list(conversor_factores.keys())[opcion_origen - 1]\n",
        "\n",
        "mostrar_menu()\n",
        "opcion_destino = int(input('Elige una opción: '))\n",
        "unidad_destino = list(conversor_factores.keys())[opcion_destino - 1]\n",
        "\n",
        "valor = float(input('Introduce el valor que deseas convertir: '))\n",
        "\n",
        "resultado = convertir_area(valor, unidad_origen, unidad_destino)\n",
        "print(f'{valor} {unidad_origen} es {resultado} {unidad_destino}')"
      ],
      "metadata": {
        "id": "PSwjO0scW3JW",
        "outputId": "fe499d14-3bd7-43cb-adbf-dc7e3d855ee9",
        "colab": {
          "base_uri": "https://localhost:8080/"
        }
      },
      "execution_count": null,
      "outputs": [
        {
          "output_type": "stream",
          "name": "stdout",
          "text": [
            "Elije la unidad que deseas convertir:\n",
            "1. m2\n",
            "2. ft2\n",
            "3. yd2\n",
            "4. vara2\n",
            "5. t\n",
            "6. manzanas\n",
            "7. hectarea\n",
            "Elige una opción: 1\n",
            "Elije la unidad que deseas convertir:\n",
            "1. m2\n",
            "2. ft2\n",
            "3. yd2\n",
            "4. vara2\n",
            "5. t\n",
            "6. manzanas\n",
            "7. hectarea\n",
            "Elige una opción: 2\n",
            "Introduce el valor que deseas convertir: 20\n",
            "20.0 m2 es 1.858062598128931 ft2\n"
          ]
        }
      ]
    },
    {
      "cell_type": "code",
      "source": [
        "def calcular_impuesto(monto):\n",
        "    tabla_para_impuestos = [\n",
        "       {'desde': 0.01, 'hasta': 500, 'tarifa_fija': 1.5, 'adicional': 0},\n",
        "        {'desde': 500.01, 'hasta': 1000, 'tarifa_fija': 1.5, 'adicional': 3},\n",
        "        {'desde': 1000.01, 'hasta': 2000, 'tarifa_fija': 3, 'adicional': 3},\n",
        "        {'desde': 2000.01, 'hasta': 3000, 'tarifa_fija': 6, 'adicional': 3},\n",
        "        {'desde': 3000.01, 'hasta': 6000, 'tarifa_fija': 9, 'adicional': 2},\n",
        "        {'desde': 8000.01, 'hasta': 18000, 'tarifa_fija': 15, 'adicional': 2},\n",
        "        {'desde': 18000.01, 'hasta': 30000, 'tarifa_fija': 39, 'adicional': 2},\n",
        "        {'desde': 30000.01, 'hasta': 60000, 'tarifa_fija': 63, 'adicional': 1},\n",
        "        {'desde': 60000.01, 'hasta': 100000, 'tarifa_fija': 93, 'adicional': 0.8},\n",
        "        {'desde': 100000.01, 'hasta': 200000, 'tarifa_fija': 125, 'adicional': 0.7},\n",
        "        {'desde': 20000.01, 'hasta': 400000, 'tarifa_fija': 195, 'adicional': 0.6},\n",
        "        {'desde': 400000.01, 'hasta': 600000, 'tarifa_fija': 255, 'adicional': 0.45},\n",
        "        {'desde': 600000.01, 'hasta': 800000, 'tarifa_fija': 300, 'adicional': 0.4},\n",
        "        {'desde': 800000.01, 'hasta': 1000000, 'tarifa_fija': 340, 'adicional': 0.3},\n",
        "        {'desde': 1000000.01, 'hasta': 999999999, 'tarifa_fija': 490, 'adicional': 0.18},\n",
        "    ]\n",
        "\n",
        "    for rango in tabla_para_impuestos:\n",
        "        if rango['desde'] <= monto <= rango['hasta']:\n",
        "            base = monto - rango['desde']\n",
        "            impuesto = base / 1000 * rango['tarifa_fija'] + rango['adicional']\n",
        "            return round(impuesto, 2)\n",
        "    return 0\n",
        "monto = float(input(\"Porfavor ingrese la cantidad que quiere calcular: \"))\n",
        "impuesto = calcular_impuesto(monto)\n",
        "print(f\"El impuesto a pagar es: ${impuesto}\")"
      ],
      "metadata": {
        "id": "7GyvHblkXKNM",
        "outputId": "fcef1ef1-9f8b-4b77-bda0-95afcd0047ba",
        "colab": {
          "base_uri": "https://localhost:8080/"
        }
      },
      "execution_count": 3,
      "outputs": [
        {
          "output_type": "stream",
          "name": "stdout",
          "text": [
            "Porfavor ingrese la cantidad que quiere calcular: 855\n",
            "El impuesto a pagar es: $3.53\n"
          ]
        }
      ]
    }
  ]
}