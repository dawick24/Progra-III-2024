{
  "nbformat": 4,
  "nbformat_minor": 0,
  "metadata": {
    "colab": {
      "provenance": [],
      "include_colab_link": true
    },
    "kernelspec": {
      "name": "python3",
      "display_name": "Python 3"
    },
    "language_info": {
      "name": "python"
    }
  },
  "cells": [
    {
      "cell_type": "markdown",
      "metadata": {
        "id": "view-in-github",
        "colab_type": "text"
      },
      "source": [
        "<a href=\"https://colab.research.google.com/github/dawick24/Progra-III-2024/blob/main/Fundamentos_de_phyton.ipynb\" target=\"_parent\"><img src=\"https://colab.research.google.com/assets/colab-badge.svg\" alt=\"Open In Colab\"/></a>"
      ]
    },
    {
      "cell_type": "code",
      "execution_count": null,
      "metadata": {
        "id": "vUhoTgJJ4bfs",
        "colab": {
          "base_uri": "https://localhost:8080/"
        },
        "outputId": "0563c5b4-edfe-4639-910d-8674a078495e"
      },
      "outputs": [
        {
          "output_type": "stream",
          "name": "stdout",
          "text": [
            "hola mundo\n",
            "Hola David Portillo , inicial  D\n"
          ]
        }
      ],
      "source": [
        "print(\"hola mundo\")\n",
        "nombre = \"David Portillo\"\n",
        "\n",
        "print(\"Hola\", nombre, \", inicial \", nombre[0])"
      ]
    },
    {
      "cell_type": "code",
      "source": [
        "num1 = 5\n",
        "num2 = 9.5\n",
        "resp = num1 + num2\n",
        "print(\"La suma es: \", resp)\n",
        "\n"
      ],
      "metadata": {
        "colab": {
          "base_uri": "https://localhost:8080/"
        },
        "id": "5LvlUMug9kG9",
        "outputId": "56f19934-1f20-4005-cb62-896ebd49fd46"
      },
      "execution_count": null,
      "outputs": [
        {
          "output_type": "stream",
          "name": "stdout",
          "text": [
            "La suma es:  14.5\n"
          ]
        }
      ]
    },
    {
      "cell_type": "markdown",
      "source": [
        "Sumar dos numerosw introducidos por el usuario"
      ],
      "metadata": {
        "id": "lD6jhiO5_MqB"
      }
    },
    {
      "cell_type": "code",
      "source": [
        "print(\"Num1\")\n",
        "num1 = float (input())\n",
        "\n",
        "print(\"Num2\")\n",
        "num2 = float (input())\n",
        "\n",
        "resp= num1 + num2\n",
        "print(\"La suma es: \", resp)"
      ],
      "metadata": {
        "colab": {
          "base_uri": "https://localhost:8080/"
        },
        "id": "S3tr9f6a_UrM",
        "outputId": "66983188-1694-4e45-a830-8c2a3f412072"
      },
      "execution_count": null,
      "outputs": [
        {
          "output_type": "stream",
          "name": "stdout",
          "text": [
            "Num1\n",
            "1\n",
            "Num2\n",
            "2\n",
            "La suma es:  3.0\n"
          ]
        }
      ]
    },
    {
      "cell_type": "markdown",
      "source": [
        "Mostrar salida oculta"
      ],
      "metadata": {
        "id": "OmQVdpr2CjDV"
      }
    },
    {
      "cell_type": "code",
      "source": [
        "nombre = \"David Portillo\"\n",
        "print(nombre[0:4], nombre[:4], nombre[-1], nombre[5:len(nombre)])\n",
        "\n",
        "estado = True\n",
        "print(estado)\n",
        "\n",
        "print(type(nombre), type(num1), type(num2), type(estado) )"
      ],
      "metadata": {
        "colab": {
          "base_uri": "https://localhost:8080/"
        },
        "id": "3_S3-QyTCmF0",
        "outputId": "87aa2539-489c-4b04-c3f2-547682cdd114"
      },
      "execution_count": null,
      "outputs": [
        {
          "output_type": "stream",
          "name": "stdout",
          "text": [
            "Davi Davi o  Portillo\n",
            "True\n",
            "<class 'str'> <class 'float'> <class 'float'> <class 'bool'>\n"
          ]
        }
      ]
    },
    {
      "cell_type": "markdown",
      "source": [
        "Cree un programa en phyton que lea un numero y determine si es par o impar  "
      ],
      "metadata": {
        "id": "L9dJ4zKEE1Ry"
      }
    },
    {
      "cell_type": "code",
      "source": [
        "num = int(input(\"Ingrese un numero:\"))\n",
        "if num % 2 == 0:\n",
        "  print(\"El numero es par \", num)\n",
        "else:\n",
        "  print(\"El numero es impar\")"
      ],
      "metadata": {
        "colab": {
          "base_uri": "https://localhost:8080/"
        },
        "id": "TN0qsZlPFKcd",
        "outputId": "6c4a6146-7a9d-4887-8cf2-9bd0dc758ed7"
      },
      "execution_count": null,
      "outputs": [
        {
          "output_type": "stream",
          "name": "stdout",
          "text": [
            "Ingrese un numero:2\n",
            "El numero es par  2\n"
          ]
        }
      ]
    },
    {
      "cell_type": "code",
      "source": [
        "nombre = input(\"Nombre: \")\n",
        "print(nombre, nombre[2])"
      ],
      "metadata": {
        "id": "j9dUX6uKZDDX",
        "outputId": "3babc705-ea1e-4070-a16b-a23804a50cfa",
        "colab": {
          "base_uri": "https://localhost:8080/"
        }
      },
      "execution_count": null,
      "outputs": [
        {
          "output_type": "stream",
          "name": "stdout",
          "text": [
            "Nombre: David\n",
            "David v\n"
          ]
        }
      ]
    },
    {
      "cell_type": "code",
      "source": [
        "def suma(num1, num2):\n",
        "  return num1 + num2\n",
        "num1 = float(input(\"Num1: \"))\n",
        "num2 = float(input(\"Num2: \"))\n",
        "resp =suma(num1, num2)\n",
        "print(\"La suma es: \", resp)"
      ],
      "metadata": {
        "id": "fERwJ4A0aCgM"
      },
      "execution_count": null,
      "outputs": []
    },
    {
      "cell_type": "markdown",
      "source": [
        "Convertiri celsius a farenheit, usando fu nciones de usuario"
      ],
      "metadata": {
        "id": "LpedleQwbhyP"
      }
    },
    {
      "cell_type": "code",
      "source": [
        "def convertir_cf(c):\n",
        "  return c*1.8 + 32\n",
        "\n",
        "c = float(input(\"celsius: \"))\n",
        "print(\"F: \", convertir_cf(c))"
      ],
      "metadata": {
        "collapsed": true,
        "id": "E4Usks-ubqcj",
        "outputId": "69eae5e7-482b-4874-eadf-dce6ef49631e",
        "colab": {
          "base_uri": "https://localhost:8080/"
        }
      },
      "execution_count": null,
      "outputs": [
        {
          "output_type": "stream",
          "name": "stdout",
          "text": [
            "celsius: 50\n",
            "F:  122.0\n"
          ]
        }
      ]
    },
    {
      "cell_type": "markdown",
      "source": [
        "Determinar si un numereo es par o impar"
      ],
      "metadata": {
        "id": "bOAHUrGlfqP9"
      }
    },
    {
      "cell_type": "code",
      "source": [
        "def parImpar(num):\n",
        "  if(num%2==0):\n",
        "    return \"par\"\n",
        "  return \"impar\"\n",
        "\n",
        "num = int(input(\"Num: \"))\n",
        "print(\"El numero \", num, \"es\", parImpar(num))"
      ],
      "metadata": {
        "id": "NaJoeSzafwH9",
        "outputId": "4994ba61-dbcf-4267-8795-c2dfa6f7e27d",
        "colab": {
          "base_uri": "https://localhost:8080/"
        }
      },
      "execution_count": null,
      "outputs": [
        {
          "output_type": "stream",
          "name": "stdout",
          "text": [
            "Num: 9\n",
            "El numero  9 es impar\n"
          ]
        }
      ]
    },
    {
      "cell_type": "markdown",
      "source": [
        "Tarea (MIERCOLES)\n",
        "\n",
        "1. Convertir grados farenheits a celsius\n",
        "2. Convertir grados [Celsius y Fraenheit] a Kelvin."
      ],
      "metadata": {
        "id": "89p7_IuWhG2b"
      }
    },
    {
      "cell_type": "code",
      "source": [
        "def convertir_fc(f):\n",
        "  return (f - 32) * 5/9\n",
        "\n",
        "f = float(input(\"farenheit: \"))\n",
        "print(\"C:\", convertir_fc(f))"
      ],
      "metadata": {
        "id": "E28BrMZ9hkC_",
        "collapsed": true,
        "outputId": "a68108f1-dfec-4683-d315-568e6642d505",
        "colab": {
          "base_uri": "https://localhost:8080/"
        }
      },
      "execution_count": null,
      "outputs": [
        {
          "output_type": "stream",
          "name": "stdout",
          "text": [
            "farenheit: 10\n",
            "C: -12.222222222222221\n"
          ]
        }
      ]
    },
    {
      "cell_type": "markdown",
      "source": [
        "2, CONVERTIR GRADOS [CELSIUS Y FARENHEIT] A KELVIN\n",
        "\n",
        "---\n",
        "\n",
        "\n",
        "\n",
        "> Agregar bloque entrecomillado\n",
        "\n"
      ],
      "metadata": {
        "id": "wlhHVTskbgek"
      }
    },
    {
      "cell_type": "code",
      "source": [
        "def convertir_ck(c):\n",
        "  k = c + 273.15\n",
        "  return k\n",
        "\n",
        "c =float(input(\"Celsius: \"))\n",
        "print(\"Kelvin: \", convertir_ck(c))"
      ],
      "metadata": {
        "id": "dGA9KOWGbs1T",
        "outputId": "dba28ed9-b04e-4bdc-f2f6-df9d4bf8112c",
        "colab": {
          "base_uri": "https://localhost:8080/"
        }
      },
      "execution_count": null,
      "outputs": [
        {
          "output_type": "stream",
          "name": "stdout",
          "text": [
            "Celsius: 20\n",
            "K:  293.15\n"
          ]
        }
      ]
    },
    {
      "cell_type": "markdown",
      "source": [
        "Farenheit a Kelvin"
      ],
      "metadata": {
        "id": "udQ_Ql_o4fh8"
      }
    },
    {
      "cell_type": "code",
      "source": [
        "def convertir_fk(f):\n",
        "  k = (f - 32) * 5/9 + 273.15\n",
        "  return k\n",
        "\n",
        "f = float(input(\"Farenheit: \"))\n",
        "print(\"Kelvin: \", convertir_fk(f))"
      ],
      "metadata": {
        "id": "7pFc3ZAz4lcr",
        "outputId": "7b167f53-1d86-4f2a-da30-5203be07ac94",
        "colab": {
          "base_uri": "https://localhost:8080/"
        }
      },
      "execution_count": null,
      "outputs": [
        {
          "output_type": "stream",
          "name": "stdout",
          "text": [
            "Farenheit: 70\n",
            "Kelvin:  294.26111111111106\n"
          ]
        }
      ]
    },
    {
      "cell_type": "markdown",
      "source": [
        "Calcular el sueldo de un trabajador"
      ],
      "metadata": {
        "id": "vmvEvLQWht9b"
      }
    },
    {
      "cell_type": "code",
      "source": [
        "def sueldo(numHrs, valorxHrs):\n",
        "  sueldo = numHrs * valorxHrs * 30 # 10*1.5*30 = 450\n",
        "  if(numHrs>8):\n",
        "    sueldo= sueldo + (numHrs-8) * valorxHrs * 30 # 2*1.5*30 = 90\n",
        "  return sueldo\n",
        "\n",
        "numHrs = int(input(\"Horas: \"))\n",
        "valorxHrs = float(input(\"Valor: \"))\n",
        "\n",
        "print(\"sueldo: \", sueldo(numHrs, valorxHrs))"
      ],
      "metadata": {
        "collapsed": true,
        "id": "KRQji5N8iMRI",
        "outputId": "97aa5330-8e35-4c70-fffa-9c6ac8d04275",
        "colab": {
          "base_uri": "https://localhost:8080/"
        }
      },
      "execution_count": null,
      "outputs": [
        {
          "output_type": "stream",
          "name": "stdout",
          "text": [
            "Horas: 10\n",
            "Valor: 1.5\n",
            "sueldo:  540.0\n"
          ]
        }
      ]
    },
    {
      "cell_type": "markdown",
      "source": [
        "Elevar un numero al cuadrado"
      ],
      "metadata": {
        "id": "hRn2wXvs6FsA"
      }
    },
    {
      "cell_type": "code",
      "source": [
        "def elevarCuadrado(base=0,exponente=2):\n",
        " return base**exponente"
      ],
      "metadata": {
        "id": "dtKROyy8jos_",
        "collapsed": true
      },
      "execution_count": null,
      "outputs": []
    },
    {
      "cell_type": "code",
      "source": [
        "num = int(input(\"Num: \"))\n",
        "print(\"cuadrado: \", elevarCuadrado(num, 3))"
      ],
      "metadata": {
        "id": "hi4I-EMP6-fb",
        "outputId": "764e9314-1ba3-4424-9b26-d3ca0cd494f3",
        "colab": {
          "base_uri": "https://localhost:8080/"
        }
      },
      "execution_count": null,
      "outputs": [
        {
          "output_type": "stream",
          "name": "stdout",
          "text": [
            "Num: 3\n",
            "cuadrado:  27\n"
          ]
        }
      ]
    },
    {
      "cell_type": "markdown",
      "source": [
        "USANDO FUNCIONES LAMBDA"
      ],
      "metadata": {
        "id": "7V3bxscc8tQi"
      }
    },
    {
      "cell_type": "code",
      "source": [
        "elevarCuadradoLambda = lambda base, exponente: base**exponente"
      ],
      "metadata": {
        "id": "eMjMsY4M81GC"
      },
      "execution_count": null,
      "outputs": []
    },
    {
      "cell_type": "code",
      "source": [
        "valor = int(input(\"Num: \"))\n",
        "print(\"cuadrado: \", elevarCuadradoLambda(valor, 2))"
      ],
      "metadata": {
        "id": "-SEbNEcF9H4S",
        "outputId": "0eeebc25-f933-40bb-c603-60e0464492b7",
        "colab": {
          "base_uri": "https://localhost:8080/"
        }
      },
      "execution_count": null,
      "outputs": [
        {
          "output_type": "stream",
          "name": "stdout",
          "text": [
            "Num: 3\n",
            "cuadrado:  9\n"
          ]
        }
      ]
    },
    {
      "cell_type": "code",
      "source": [
        "serie = [5,4,3,2,6,7]\n",
        "resp =map(lambda x: x**2, serie)\n",
        "print(list(resp))\n",
        "\n",
        "resp2 = map(elevarCuadrado, serie)\n",
        "print(list(resp2))"
      ],
      "metadata": {
        "id": "muNBpVCu_-uk",
        "outputId": "46919ff2-3d02-4b7a-f7f3-7ac82998cfb2",
        "colab": {
          "base_uri": "https://localhost:8080/"
        }
      },
      "execution_count": null,
      "outputs": [
        {
          "output_type": "stream",
          "name": "stdout",
          "text": [
            "[25, 16, 9, 4, 36, 49]\n",
            "[25, 16, 9, 4, 36, 49]\n"
          ]
        }
      ]
    },
    {
      "cell_type": "markdown",
      "source": [
        "Obtener la raiz cuadrada de una serie de numeros frios"
      ],
      "metadata": {
        "id": "sot1C64YC7yv"
      }
    },
    {
      "cell_type": "code",
      "source": [
        "def raizcuadrada(serie):\n",
        "  return num**0.5"
      ],
      "metadata": {
        "id": "P4gyWT7eIgRZ"
      },
      "execution_count": null,
      "outputs": []
    },
    {
      "cell_type": "code",
      "source": [
        "serie = [2,4,6,8,10]\n",
        "resp = map(raizcuadrada, serie)\n",
        "print(list(resp))"
      ],
      "metadata": {
        "id": "9keRnUb_JEJg",
        "outputId": "77dd4c05-ff68-457c-d949-891d83d07f5b",
        "colab": {
          "base_uri": "https://localhost:8080/"
        }
      },
      "execution_count": null,
      "outputs": [
        {
          "output_type": "stream",
          "name": "stdout",
          "text": [
            "[1.7320508075688772, 1.7320508075688772, 1.7320508075688772, 1.7320508075688772, 1.7320508075688772]\n"
          ]
        }
      ]
    },
    {
      "cell_type": "markdown",
      "source": [
        "***TAREA***  EJERCICIOS PRACTICOS EN PHYTON – Grupos 4\n",
        "\n",
        "---\n",
        "\n"
      ],
      "metadata": {
        "id": "mTeOruPUGb0v"
      }
    },
    {
      "cell_type": "markdown",
      "source": [
        "# 3- Desarrolle la tabla de meses acumulados a n meses:"
      ],
      "metadata": {
        "id": "6JNv9QnOAJEK"
      }
    },
    {
      "cell_type": "code",
      "source": [
        "def calcular_acumulacionde(meses):\n",
        "   acumulacion = 0\n",
        "   for i in range(1, meses + 1):\n",
        "       acumulacion += i\n",
        "   return acumulacion\n",
        "\n",
        "meses = int(input(\"Ingrese el numero de meses: \"))\n",
        "resultado = calcular_acumulacionde(meses)\n",
        "print(f\"Acumulacion de {meses} meses: {resultado}\")\n"
      ],
      "metadata": {
        "id": "GO3PyfqNAMO9",
        "outputId": "fbc5631d-7299-4e19-e3e2-7c9cb6e22577",
        "colab": {
          "base_uri": "https://localhost:8080/"
        }
      },
      "execution_count": 38,
      "outputs": [
        {
          "output_type": "stream",
          "name": "stdout",
          "text": [
            "Ingrese el numero de meses: 24\n",
            "Acumulacion de 24 meses: 300\n"
          ]
        }
      ]
    },
    {
      "cell_type": "markdown",
      "source": [
        "# 1- **Calcular** sobre el sueldo las deducciones por ley ISSS (3%), AFP(6.25%), ISR(Según tabla) e imprima el total deducciones y sueldo neto."
      ],
      "metadata": {
        "id": "x3OCxIDcCV3l"
      }
    },
    {
      "cell_type": "code",
      "source": [
        "sueldo_salarial = float(input(\"Ingrese el sueldo: \"))\n",
        "ISSS = sueldo_salarial * 0.03\n",
        "AFP = sueldo_salarial * 0.0625\n",
        "ISR = sueldo_salarial * 0.30 # SERA EL % DEL ISR QUE QUEREMOS\n",
        "# TOTAL DE LAS 3 DEDUCCIONES\n",
        "total_deduccion = ISSS + AFP + ISR\n",
        "# SUELDO NETO - EL TOTAL DE DEDUCCION\n",
        "sueldo_neto = sueldo_salarial - total_deduccion\n",
        "\n",
        "print(f\"ISSS: ${ISSS:.2f}\")\n",
        "print(f\"AFP: ${AFP:.2f}\")\n",
        "print(f\"ISR: ${ISR:.2f}\")\n",
        "print(f\"Total de deducciones: ${total_deduccion:.2f}\")\n",
        "print(f\"Sueldo: ${sueldo_neto:.2f}\")\n"
      ],
      "metadata": {
        "id": "Yd6CP0wFCsJj",
        "outputId": "b788d717-9ca6-4e6c-e73c-69e091dff4dc",
        "colab": {
          "base_uri": "https://localhost:8080/"
        }
      },
      "execution_count": 31,
      "outputs": [
        {
          "output_type": "stream",
          "name": "stdout",
          "text": [
            "Ingrese el sueldo: 800\n",
            "ISSS: $24.00\n",
            "AFP: $50.00\n",
            "ISR: $240.00\n",
            "Total de deducciones: $314.00\n",
            "Sueldo: $486.00\n"
          ]
        }
      ]
    },
    {
      "cell_type": "markdown",
      "source": [
        "# **Calcular el valor a pagar según el número de metros consumidos de agua potable.**"
      ],
      "metadata": {
        "id": "c-VKYX6aGOHS"
      }
    },
    {
      "cell_type": "code",
      "source": [],
      "metadata": {
        "id": "CFxu2kpUHn9a"
      },
      "execution_count": null,
      "outputs": []
    },
    {
      "cell_type": "code",
      "source": [
        "def obtenernota(nota,eval):\n",
        "   return eval[1]*0.3 + nota"
      ],
      "metadata": {
        "id": "vpL1G2NlfiAS"
      },
      "execution_count": 8,
      "outputs": []
    },
    {
      "cell_type": "code",
      "source": [
        "matriz = [ [\"Lab1\", 8],[\"Lab2, 9\"], [\"Parcial, 8\"] ]\n",
        "functools.reduce(obtenerNota, matriz, 0)"
      ],
      "metadata": {
        "id": "DtihvrLOf3jw",
        "outputId": "09f5b332-fce2-4ac5-c014-ab9b7104f43a",
        "colab": {
          "base_uri": "https://localhost:8080/",
          "height": 159
        }
      },
      "execution_count": 22,
      "outputs": [
        {
          "output_type": "error",
          "ename": "NameError",
          "evalue": "name 'functools' is not defined",
          "traceback": [
            "\u001b[0;31m---------------------------------------------------------------------------\u001b[0m",
            "\u001b[0;31mNameError\u001b[0m                                 Traceback (most recent call last)",
            "\u001b[0;32m<ipython-input-22-6227879cbda7>\u001b[0m in \u001b[0;36m<cell line: 2>\u001b[0;34m()\u001b[0m\n\u001b[1;32m      1\u001b[0m \u001b[0mmatriz\u001b[0m \u001b[0;34m=\u001b[0m \u001b[0;34m[\u001b[0m \u001b[0;34m[\u001b[0m\u001b[0;34m\"Lab1\"\u001b[0m\u001b[0;34m,\u001b[0m \u001b[0;36m8\u001b[0m\u001b[0;34m]\u001b[0m\u001b[0;34m,\u001b[0m\u001b[0;34m[\u001b[0m\u001b[0;34m\"Lab2, 9\"\u001b[0m\u001b[0;34m]\u001b[0m\u001b[0;34m,\u001b[0m \u001b[0;34m[\u001b[0m\u001b[0;34m\"Parcial, 8\"\u001b[0m\u001b[0;34m]\u001b[0m \u001b[0;34m]\u001b[0m\u001b[0;34m\u001b[0m\u001b[0;34m\u001b[0m\u001b[0m\n\u001b[0;32m----> 2\u001b[0;31m \u001b[0mfunctools\u001b[0m\u001b[0;34m.\u001b[0m\u001b[0mreduce\u001b[0m\u001b[0;34m(\u001b[0m\u001b[0mobtenerNota\u001b[0m\u001b[0;34m,\u001b[0m \u001b[0mmatriz\u001b[0m\u001b[0;34m,\u001b[0m \u001b[0;36m0\u001b[0m\u001b[0;34m)\u001b[0m\u001b[0;34m\u001b[0m\u001b[0;34m\u001b[0m\u001b[0m\n\u001b[0m",
            "\u001b[0;31mNameError\u001b[0m: name 'functools' is not defined"
          ]
        }
      ]
    },
    {
      "cell_type": "code",
      "source": [
        "serie = [1,2,3,3,4,4,1,8,9]\n",
        "print(serie.count(1))"
      ],
      "metadata": {
        "id": "h_ai3-EPgYNa",
        "outputId": "0b6a978e-76de-4a54-b337-ee5689491a43",
        "colab": {
          "base_uri": "https://localhost:8080/"
        }
      },
      "execution_count": 18,
      "outputs": [
        {
          "output_type": "stream",
          "name": "stdout",
          "text": [
            "2\n"
          ]
        }
      ]
    },
    {
      "cell_type": "code",
      "source": [
        "23numeros = []\n",
        "for i in range (1,10):\n",
        "  numeros.append(input(\"Num: \" + str(i)+\":\"))\n",
        "num = int(input(\"Numero a buscar: \"))\n",
        "print(\"Serie: \", numeros, \"El numero\", num, \", Se repite:\", numeros.count(num))"
      ],
      "metadata": {
        "id": "ift0Tlekgxzc",
        "outputId": "2fd6f75a-5b16-4570-82fe-6710310f76e2",
        "colab": {
          "base_uri": "https://localhost:8080/"
        }
      },
      "execution_count": 20,
      "outputs": [
        {
          "output_type": "stream",
          "name": "stdout",
          "text": [
            "Num: 1:1\n",
            "Num: 2:1\n",
            "Num: 3:1\n",
            "Num: 4:\n",
            "Num: 5:\n",
            "Num: 6:3\n",
            "Num: 7:4\n",
            "Num: 8:2\n",
            "Num: 9:4\n",
            "Numero a buscar: 1\n",
            "Serie:  ['1', '1', '1', '', '', '3', '4', '2', '4'] El numero 1 , Se repite: 0\n"
          ]
        }
      ]
    },
    {
      "cell_type": "code",
      "source": [
        "numeros = [1,5,3,4,6,2]\n",
        "numeros.sort()\n",
        "print(numeros)"
      ],
      "metadata": {
        "id": "9gFRNJ8-kQui",
        "outputId": "779958de-5ac7-4c4c-9a5e-b2919b6334cf",
        "colab": {
          "base_uri": "https://localhost:8080/"
        }
      },
      "execution_count": 27,
      "outputs": [
        {
          "output_type": "stream",
          "name": "stdout",
          "text": [
            "[1, 2, 3, 4, 5, 6]\n"
          ]
        }
      ]
    },
    {
      "cell_type": "markdown",
      "source": [
        "**DICCIONARIO**"
      ],
      "metadata": {
        "id": "FTuzqvcxkRuz"
      }
    },
    {
      "cell_type": "code",
      "source": [
        "datos = {\n",
        "    \"Codigo\":\"SMSS132922\",\n",
        "    \"Nombre\":\"David Portillo\",\n",
        "    \"MateriaS\":{\n",
        "        {\"Codigo\":\"683\",\"Nombre\":\"Programacion\",\"notas\":{\n",
        "            \"c1\":{\"lab1\":8,\"lab2\":9,\"parcial\":10,\n",
        "            \"c1\":\"lab1\":4,\"lab2\":9,\"parcial\":10,\n",
        "            \"c1\":\"lab1\":3,\"lab2\":4,\"parcial\":5,\n",
        "            }\n",
        "         },\n",
        "        {\"Codigo\":\"698\",\"Nombre\":\"Matematica\"}\n",
        "    }\n",
        "}\n",
        "print(datos[\"Nombre\"], datos[\"Materias\"[0][\"Nombre\"]])"
      ],
      "metadata": {
        "id": "XeQfw92xkXR3",
        "outputId": "7df89fe6-1b70-41a9-d7eb-48345e289dfd",
        "colab": {
          "base_uri": "https://localhost:8080/",
          "height": 245
        }
      },
      "execution_count": 24,
      "outputs": [
        {
          "output_type": "stream",
          "name": "stderr",
          "text": [
            "<>:9: SyntaxWarning: str indices must be integers or slices, not str; perhaps you missed a comma?\n",
            "<>:9: SyntaxWarning: str indices must be integers or slices, not str; perhaps you missed a comma?\n"
          ]
        },
        {
          "output_type": "error",
          "ename": "TypeError",
          "evalue": "unhashable type: 'dict'",
          "traceback": [
            "\u001b[0;31m---------------------------------------------------------------------------\u001b[0m",
            "\u001b[0;31mTypeError\u001b[0m                                 Traceback (most recent call last)",
            "\u001b[0;32m<ipython-input-24-84f2b3678f36>\u001b[0m in \u001b[0;36m<cell line: 2>\u001b[0;34m()\u001b[0m\n\u001b[1;32m      2\u001b[0m     \u001b[0;34m\"Codigo\"\u001b[0m\u001b[0;34m:\u001b[0m\u001b[0;34m\"SMSS132922\"\u001b[0m\u001b[0;34m,\u001b[0m\u001b[0;34m\u001b[0m\u001b[0;34m\u001b[0m\u001b[0m\n\u001b[1;32m      3\u001b[0m     \u001b[0;34m\"Nombre\"\u001b[0m\u001b[0;34m:\u001b[0m\u001b[0;34m\"David Portillo\"\u001b[0m\u001b[0;34m,\u001b[0m\u001b[0;34m\u001b[0m\u001b[0;34m\u001b[0m\u001b[0m\n\u001b[0;32m----> 4\u001b[0;31m     \"MateriaS\":{\n\u001b[0m\u001b[1;32m      5\u001b[0m         \u001b[0;34m{\u001b[0m\u001b[0;34m\"Codigo\"\u001b[0m\u001b[0;34m:\u001b[0m\u001b[0;34m\"683\"\u001b[0m\u001b[0;34m,\u001b[0m\u001b[0;34m\"Nombre\"\u001b[0m\u001b[0;34m:\u001b[0m\u001b[0;34m\"Programacion\"\u001b[0m\u001b[0;34m}\u001b[0m\u001b[0;34m,\u001b[0m\u001b[0;34m\u001b[0m\u001b[0;34m\u001b[0m\u001b[0m\n\u001b[1;32m      6\u001b[0m         \u001b[0;34m{\u001b[0m\u001b[0;34m\"Codigo\"\u001b[0m\u001b[0;34m:\u001b[0m\u001b[0;34m\"698\"\u001b[0m\u001b[0;34m,\u001b[0m\u001b[0;34m\"Nombre\"\u001b[0m\u001b[0;34m:\u001b[0m\u001b[0;34m\"Matematica\"\u001b[0m\u001b[0;34m}\u001b[0m\u001b[0;34m\u001b[0m\u001b[0;34m\u001b[0m\u001b[0m\n",
            "\u001b[0;31mTypeError\u001b[0m: unhashable type: 'dict'"
          ]
        }
      ]
    },
    {
      "cell_type": "code",
      "source": [],
      "metadata": {
        "id": "ioyvaPRJqcs_"
      },
      "execution_count": null,
      "outputs": []
    }
  ]
}